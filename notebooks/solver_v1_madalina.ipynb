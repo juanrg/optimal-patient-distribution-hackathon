{
 "cells": [
  {
   "cell_type": "code",
   "execution_count": 1,
   "metadata": {
    "ExecuteTime": {
     "end_time": "2020-04-10T06:27:37.187282Z",
     "start_time": "2020-04-10T06:27:37.019808Z"
    }
   },
   "outputs": [],
   "source": [
    "import numpy as np\n",
    "import scipy.optimize as optimize"
   ]
  },
  {
   "cell_type": "markdown",
   "metadata": {
    "ExecuteTime": {
     "end_time": "2020-04-10T06:22:51.280390Z",
     "start_time": "2020-04-10T06:22:51.275863Z"
    }
   },
   "source": [
    "# Problem statement as Markov Pocess\n",
    "\n",
    "Given the context of 1 day ( free places and demand) find the next optimal movements between hospitals.\n",
    "\n",
    "\n",
    "Objective: minimize the number of unattended people by predicting a transition matrix of patient transports between hospitals\n",
    "\n",
    "Prevent unnecessary transportantions between hospitals."
   ]
  },
  {
   "cell_type": "code",
   "execution_count": 2,
   "metadata": {
    "ExecuteTime": {
     "end_time": "2020-04-10T06:27:37.591834Z",
     "start_time": "2020-04-10T06:27:37.564189Z"
    }
   },
   "outputs": [],
   "source": [
    "def optimize_func(transitions):\n",
    "    n = int(np.sqrt(len(transitions)))\n",
    "    transitions = transitions.reshape(n,n)\n",
    "    new_availability = free_places - transitions.sum(axis = 0)\n",
    "    nb_deaths = -np.sum(new_availability[new_availability<0])\n",
    "    \n",
    "     \n",
    "    # penalize useless transportation\n",
    "    occupied_in_hospital = np.array([transitions[i][i] for i in range(n)])\n",
    "    remaining_in_hospital = free_places - occupied_in_hospital\n",
    "    transported = transitions.sum(axis = 1) - occupied_in_hospital\n",
    "    \n",
    "    useless_transport = remaining_in_hospital * transported\n",
    "    idx_tranport_not_needed = np.where(remaining_in_hospital > 0)[0]\n",
    "    if len(idx_tranport_not_needed) > 0: # there are places left in the hospital\n",
    "        # and still a transport has been done\n",
    "        useless_transport = np.sum(useless_transport[idx_tranport_not_needed])\n",
    "    else:\n",
    "        useless_transport = 0\n",
    "#     print(f\"useless_transport {useless_transport}, remaining_in_hospital{remaining_in_hospital}, {transported}\")\n",
    "    result = nb_deaths + useless_transport\n",
    "    return result\n",
    "\n",
    "\n",
    "def demand_is_split_across_hospitals(transitions):\n",
    "    n = int(np.sqrt(len(transitions)))\n",
    "    transitions = transitions.reshape(n, n)\n",
    "    diff = transitions.sum(axis=1) - demand\n",
    "    result = np.sum(np.abs(diff))\n",
    "    return result\n",
    "\n",
    "constraints = (\n",
    "    {\n",
    "        'type': 'eq', 'fun': demand_is_split_across_hospitals\n",
    "    } )"
   ]
  },
  {
   "cell_type": "code",
   "execution_count": 3,
   "metadata": {
    "ExecuteTime": {
     "end_time": "2020-04-10T06:27:38.140177Z",
     "start_time": "2020-04-10T06:27:38.135927Z"
    }
   },
   "outputs": [],
   "source": [
    "def run(demand, free_places):\n",
    "    n = len(demand)\n",
    "    transitions = np.zeros(n*n)\n",
    "    bounds=[(0, np.sum(demand)) for _ in range(n*n)]\n",
    "\n",
    "    result = optimize.minimize(optimize_func,\n",
    "                               transitions,\n",
    "                               method='SLSQP',\n",
    "                               constraints=constraints,\n",
    "                               bounds = bounds\n",
    "                              )\n",
    "#     print(result.fun)\n",
    "    result = result.x\n",
    "    return result.reshape(n,n).round().astype(int)"
   ]
  },
  {
   "cell_type": "markdown",
   "metadata": {},
   "source": [
    "# Test"
   ]
  },
  {
   "cell_type": "code",
   "execution_count": 4,
   "metadata": {
    "ExecuteTime": {
     "end_time": "2020-04-10T06:27:38.613042Z",
     "start_time": "2020-04-10T06:27:38.518889Z"
    }
   },
   "outputs": [
    {
     "data": {
      "text/plain": [
       "array([[2, 0, 0],\n",
       "       [3, 1, 0],\n",
       "       [0, 0, 2]])"
      ]
     },
     "execution_count": 4,
     "metadata": {},
     "output_type": "execute_result"
    }
   ],
   "source": [
    "free_places = np.array([7,1,2])\n",
    "demand = np.array([2,4,2])\n",
    "\n",
    "run(demand, free_places)"
   ]
  },
  {
   "cell_type": "code",
   "execution_count": 6,
   "metadata": {
    "ExecuteTime": {
     "end_time": "2020-04-10T06:28:48.034684Z",
     "start_time": "2020-04-10T06:28:47.852563Z"
    }
   },
   "outputs": [
    {
     "name": "stdout",
     "output_type": "stream",
     "text": [
      "free_places [1 0 1 0], demand [0 1 1 1] \n"
     ]
    },
    {
     "data": {
      "text/plain": [
       "array([[0, 0, 0, 0],\n",
       "       [1, 0, 0, 0],\n",
       "       [0, 0, 1, 0],\n",
       "       [1, 0, 0, 0]])"
      ]
     },
     "execution_count": 6,
     "metadata": {},
     "output_type": "execute_result"
    }
   ],
   "source": [
    "n = 4 # number of hospitals\n",
    "free_places = np.random.randint(0, 5, size = n)\n",
    "demand = np.random.randint(0, 5, size = n)\n",
    "print ( f\"free_places {free_places}, demand {demand} \")\n",
    "run(demand, free_places)"
   ]
  },
  {
   "cell_type": "code",
   "execution_count": 7,
   "metadata": {
    "ExecuteTime": {
     "end_time": "2020-04-10T06:28:59.664961Z",
     "start_time": "2020-04-10T06:28:59.319275Z"
    }
   },
   "outputs": [
    {
     "name": "stdout",
     "output_type": "stream",
     "text": [
      "free_places [1 2 0 2 2 3], demand [4 2 3 4 1 0] \n"
     ]
    },
    {
     "data": {
      "text/plain": [
       "array([[1, 0, 0, 0, 0, 1],\n",
       "       [0, 2, 0, 0, 0, 0],\n",
       "       [0, 1, 0, 0, 0, 2],\n",
       "       [0, 0, 0, 2, 0, 1],\n",
       "       [0, 0, 0, 0, 1, 0],\n",
       "       [0, 0, 0, 0, 0, 0]])"
      ]
     },
     "execution_count": 7,
     "metadata": {},
     "output_type": "execute_result"
    }
   ],
   "source": [
    "n = 6 # number of hospitals\n",
    "free_places = np.random.randint(0, 5, size = n)\n",
    "demand = np.random.randint(0, 5, size = n)\n",
    "print ( f\"free_places {free_places}, demand {demand} \")\n",
    "run(demand, free_places)"
   ]
  },
  {
   "cell_type": "code",
   "execution_count": null,
   "metadata": {},
   "outputs": [],
   "source": []
  },
  {
   "cell_type": "code",
   "execution_count": null,
   "metadata": {},
   "outputs": [],
   "source": []
  },
  {
   "cell_type": "code",
   "execution_count": null,
   "metadata": {},
   "outputs": [],
   "source": []
  }
 ],
 "metadata": {
  "kernelspec": {
   "display_name": "Python 3",
   "language": "python",
   "name": "python3"
  },
  "language_info": {
   "codemirror_mode": {
    "name": "ipython",
    "version": 3
   },
   "file_extension": ".py",
   "mimetype": "text/x-python",
   "name": "python",
   "nbconvert_exporter": "python",
   "pygments_lexer": "ipython3",
   "version": "3.6.9"
  }
 },
 "nbformat": 4,
 "nbformat_minor": 4
}

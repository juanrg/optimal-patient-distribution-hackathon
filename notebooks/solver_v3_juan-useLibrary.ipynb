{
 "cells": [
  {
   "cell_type": "markdown",
   "metadata": {},
   "source": [
    "### TODO\n",
    "\n",
    "- Correct it, it's finding local mimima\n",
    "- Find the right way to turn the solution into integers"
   ]
  },
  {
   "cell_type": "code",
   "execution_count": 10,
   "metadata": {
    "ExecuteTime": {
     "end_time": "2020-04-10T10:45:01.138724Z",
     "start_time": "2020-04-10T10:45:01.012723Z"
    }
   },
   "outputs": [
    {
     "name": "stdout",
     "output_type": "stream",
     "text": [
      "Exception reporting mode: Plain\n",
      "The autoreload extension is already loaded. To reload it, use:\n",
      "  %reload_ext autoreload\n"
     ]
    }
   ],
   "source": [
    "import numpy as np\n",
    "import scipy.optimize as optimize\n",
    "from random import randint\n",
    "import sys\n",
    "\n",
    "%xmode plain\n",
    "\n",
    "from simulationmodel import *\n",
    "from viz import *\n",
    "%load_ext autoreload\n",
    "%autoreload 2"
   ]
  },
  {
   "cell_type": "code",
   "execution_count": 11,
   "metadata": {
    "ExecuteTime": {
     "end_time": "2020-04-10T10:45:05.161333Z",
     "start_time": "2020-04-10T10:45:05.038333Z"
    },
    "scrolled": false
   },
   "outputs": [
    {
     "name": "stdout",
     "output_type": "stream",
     "text": [
      "Randomly generated\n",
      "10 days, 4 hospitals\n",
      "ICU capacities of hospitals: [30000, 20, 80, 1000]\n",
      "Daily transport capacities: [50, 60, 70, 80], \n",
      "Daily simulated demand (from uniform distrution): \n",
      "[[96, 83, 73, 91, 79, 79, 99, 88, 74, 78], [67, 98, 81, 77, 76, 97, 92, 83, 67, 94], [76, 74, 63, 74, 68, 62, 82, 60, 87, 75], [71, 81, 86, 74, 88, 63, 68, 63, 71, 63]]\n"
     ]
    }
   ],
   "source": [
    "prob_death_transport = 0\n",
    "num_days = 10\n",
    "num_nodes = 4\n",
    "node_capacities, transport_capacities, demands = init_simulation(num_nodes, \n",
    "                                                                 num_days, \n",
    "                                                                 icu_capacities=[30000, 20, 80, 1000],\n",
    "                                                                 transport_capacities=[50, 60, 70, 80], \n",
    "                                                                 demand_min = 60, demand_max=100)\n",
    "print(f\"\"\"Randomly generated\n",
    "{num_days} days, {num_nodes} hospitals\n",
    "ICU capacities of hospitals: {node_capacities}\n",
    "Daily transport capacities: {transport_capacities}, \n",
    "Daily simulated demand (from uniform distrution): \n",
    "{demands}\"\"\")"
   ]
  },
  {
   "cell_type": "code",
   "execution_count": 38,
   "metadata": {
    "ExecuteTime": {
     "end_time": "2020-04-10T11:33:30.394160Z",
     "start_time": "2020-04-10T11:33:30.268146Z"
    },
    "collapsed": true
   },
   "outputs": [],
   "source": [
    "## ADD THIS\n",
    "\n",
    "scenario_info = {\n",
    "     'node_capacities' : node_capacities # how much capacity in each hospital. Size: [Nodes]\n",
    "    ,'transport_capacities' : transport_capacities # Size: [Nodes]\n",
    "    ,'demands' : demands #Size: [Days, Nodes]\n",
    "    ,'num_days': num_days # int \n",
    "    ,'num_nodes':num_nodes # int\n",
    "    ,'node_distances' : None #Size: [Nodes, Nodes]\n",
    "    ,'prob_death_transport': 0 #float   \n",
    "}"
   ]
  },
  {
   "cell_type": "code",
   "execution_count": 13,
   "metadata": {
    "ExecuteTime": {
     "end_time": "2020-04-10T10:45:06.177334Z",
     "start_time": "2020-04-10T10:45:06.041334Z"
    },
    "collapsed": true
   },
   "outputs": [],
   "source": [
    "def split_n(num, num_nodes):\n",
    "    #TODO this function is not truly random\n",
    "    pieces = []\n",
    "    for idx in range(num_nodes-1):\n",
    "        pieces.append(randint(1,num-sum(pieces)-num_nodes+idx))\n",
    "\n",
    "    pieces.append(num-sum(pieces))\n",
    "    return pieces"
   ]
  },
  {
   "cell_type": "code",
   "execution_count": 14,
   "metadata": {
    "ExecuteTime": {
     "end_time": "2020-04-10T10:45:07.663354Z",
     "start_time": "2020-04-10T10:45:07.536346Z"
    }
   },
   "outputs": [],
   "source": [
    "## ADD scenario_info to f_cons\n",
    "\n",
    "#define constraints\n",
    "cons = []\n",
    "for node in range(num_nodes):\n",
    "    for day in range(num_days):\n",
    "        cons.append({'type': 'ineq', 'fun': f_cons(node,day, scenario_info)})\n",
    "\n",
    "        \n",
    "#no movement matrix\n",
    "no_movement = np.array([[[0]*num_nodes]*num_nodes]*num_days)"
   ]
  },
  {
   "cell_type": "code",
   "execution_count": 15,
   "metadata": {
    "ExecuteTime": {
     "end_time": "2020-04-10T10:45:08.485346Z",
     "start_time": "2020-04-10T10:45:08.349348Z"
    },
    "collapsed": true
   },
   "outputs": [],
   "source": [
    "def random_init(random_days = False, movement_intensity = 1):\n",
    "    #almost everyone moves everywhere\n",
    "    random_movement = no_movement.copy()\n",
    "    for day in range(num_days):\n",
    "        for node_x in range(num_nodes):\n",
    "            split_nodes = split_n(np.ceil(transport_capacities[node_x]*movement_intensity), num_nodes)\n",
    "            for node_y in range(num_nodes):\n",
    "                if node_x != node_y: #the ones that move to \"self\" are actually staying\n",
    "                    random_movement[day, node_x, node_y] += split_nodes[node_y]\n",
    "                    \n",
    "    return random_movement\n",
    "\n",
    "max_movement = random_init()\n",
    "half_movement = random_init(movement_intensity=0.5)\n",
    "one_ten_movement = random_init(movement_intensity=0.1)"
   ]
  },
  {
   "cell_type": "code",
   "execution_count": 16,
   "metadata": {
    "ExecuteTime": {
     "end_time": "2020-04-10T10:45:10.243239Z",
     "start_time": "2020-04-10T10:45:10.107244Z"
    }
   },
   "outputs": [
    {
     "data": {
      "text/plain": [
       "array([0, 1, 1, 2, 1, 0, 1, 2, 1, 3, 0, 2, 1, 3, 1, 0, 0, 1, 1, 2, 1, 0, 2,\n",
       "       2, 1, 1, 0, 4, 2, 2, 2, 0, 0, 1, 1, 2, 2, 0, 1, 2, 2, 2, 0, 2, 3, 1,\n",
       "       2, 0, 0, 1, 1, 2, 1, 0, 1, 3, 1, 2, 0, 3, 1, 3, 2, 0, 0, 1, 1, 2, 1,\n",
       "       0, 1, 3, 2, 1, 0, 2, 2, 1, 2, 0, 0, 1, 1, 2, 1, 0, 1, 2, 3, 1, 0, 2,\n",
       "       3, 2, 1, 0, 0, 1, 1, 2, 1, 0, 2, 2, 2, 2, 0, 2, 4, 1, 1, 0, 0, 1, 1,\n",
       "       2, 1, 0, 1, 2, 1, 2, 0, 3, 3, 1, 1, 0, 0, 1, 1, 2, 2, 0, 1, 2, 2, 1,\n",
       "       0, 2, 1, 4, 1, 0, 0, 1, 1, 2, 1, 0, 1, 2, 3, 1, 0, 2, 3, 1, 2, 0])"
      ]
     },
     "execution_count": 16,
     "metadata": {},
     "output_type": "execute_result"
    }
   ],
   "source": [
    "one_ten_movement.ravel()"
   ]
  },
  {
   "cell_type": "code",
   "execution_count": null,
   "metadata": {
    "collapsed": true
   },
   "outputs": [],
   "source": []
  },
  {
   "cell_type": "code",
   "execution_count": 41,
   "metadata": {
    "ExecuteTime": {
     "end_time": "2020-04-10T11:34:14.165181Z",
     "start_time": "2020-04-10T11:34:04.596181Z"
    },
    "scrolled": false
   },
   "outputs": [
    {
     "name": "stdout",
     "output_type": "stream",
     "text": [
      "Intensity:0.0...best! Intensity:0.1...best! Intensity:0.2..."
     ]
    },
    {
     "ename": "KeyboardInterrupt",
     "evalue": "",
     "output_type": "error",
     "traceback": [
      "Traceback \u001b[0;36m(most recent call last)\u001b[0m:\n",
      "  File \u001b[1;32m\"<ipython-input-41-aca87155c6e2>\"\u001b[0m, line \u001b[1;32m1\u001b[0m, in \u001b[1;35m<module>\u001b[0m\n    get_ipython().run_cell_magic('time', '', '\\n#all the movements configuration and flatten them with ravel()\\nmovements = [no_movement, \\n             random_init(), \\n             random_init(movement_intensity=0.75), \\n             random_init(movement_intensity=0.5), \\n             random_init(movement_intensity=0.25), \\n             random_init(movement_intensity=0.1)]\\n#movements = [x.ravel() for x in movements]\\n\\n#parameters to minimize\\nmin_deaths = sys.maxsize\\nbest_result = None\\nresult_matrix = None\\nfor movement_intensity in np.arange(0, 1.1, 0.1):\\n    print(f\"Intensity:{movement_intensity:.1f}...\", end=\"\")\\n    movement = random_init(movement_intensity=movement_intensity) if movement_intensity else no_movement\\n    movement = movement.ravel()\\n    bounds_movement = generate_bounds(scenario_info)\\n    #the actual\\n    result = optimize.minimize(lambda x: calc_total_deaths(x, scenario_info), \\n                               movement,\\n                               method=\\'SLSQP\\', \\n                               constraints=cons, \\n                               bounds=bounds_movement)\\n    \\n    current_deaths = calc_total_deaths(np.rint(result.x), scenario_info)\\n    if min_deaths > current_deaths: \\n        print(\"best! \", end=\"\")\\n        min_deaths = int(current_deaths)\\n        best_result = result\\n        result_matrix = np.reshape(np.rint(result.x),(num_days,num_nodes,num_nodes))\\nprint(\"Done\")')\n",
      "  File \u001b[1;32m\"E:\\dev\\Anaconda3\\lib\\site-packages\\IPython\\core\\interactiveshell.py\"\u001b[0m, line \u001b[1;32m2115\u001b[0m, in \u001b[1;35mrun_cell_magic\u001b[0m\n    result = fn(magic_arg_s, cell)\n",
      "  File \u001b[1;32m\"<decorator-gen-60>\"\u001b[0m, line \u001b[1;32m2\u001b[0m, in \u001b[1;35mtime\u001b[0m\n",
      "  File \u001b[1;32m\"E:\\dev\\Anaconda3\\lib\\site-packages\\IPython\\core\\magic.py\"\u001b[0m, line \u001b[1;32m188\u001b[0m, in \u001b[1;35m<lambda>\u001b[0m\n    call = lambda f, *a, **k: f(*a, **k)\n",
      "  File \u001b[1;32m\"E:\\dev\\Anaconda3\\lib\\site-packages\\IPython\\core\\magics\\execution.py\"\u001b[0m, line \u001b[1;32m1180\u001b[0m, in \u001b[1;35mtime\u001b[0m\n    exec(code, glob, local_ns)\n",
      "  File \u001b[1;32m\"<timed exec>\"\u001b[0m, line \u001b[1;32m25\u001b[0m, in \u001b[1;35m<module>\u001b[0m\n",
      "  File \u001b[1;32m\"E:\\dev\\Anaconda3\\lib\\site-packages\\scipy\\optimize\\_minimize.py\"\u001b[0m, line \u001b[1;32m458\u001b[0m, in \u001b[1;35mminimize\u001b[0m\n    constraints, callback=callback, **options)\n",
      "  File \u001b[1;32m\"E:\\dev\\Anaconda3\\lib\\site-packages\\scipy\\optimize\\slsqp.py\"\u001b[0m, line \u001b[1;32m401\u001b[0m, in \u001b[1;35m_minimize_slsqp\u001b[0m\n    for con in cons['ineq']])\n",
      "  File \u001b[1;32m\"E:\\dev\\Anaconda3\\lib\\site-packages\\scipy\\optimize\\slsqp.py\"\u001b[0m, line \u001b[1;32m401\u001b[0m, in \u001b[1;35m<listcomp>\u001b[0m\n    for con in cons['ineq']])\n",
      "  File \u001b[1;32m\"E:\\dev\\Anaconda3\\lib\\site-packages\\scipy\\optimize\\slsqp.py\"\u001b[0m, line \u001b[1;32m276\u001b[0m, in \u001b[1;35mcjac\u001b[0m\n    return approx_jacobian(x, fun, epsilon, *args)\n",
      "\u001b[0;36m  File \u001b[0;32m\"E:\\dev\\Anaconda3\\lib\\site-packages\\scipy\\optimize\\slsqp.py\"\u001b[0;36m, line \u001b[0;32m60\u001b[0;36m, in \u001b[0;35mapprox_jacobian\u001b[0;36m\u001b[0m\n\u001b[0;31m    dx = zeros(len(x0))\u001b[0m\n",
      "\u001b[0;31mKeyboardInterrupt\u001b[0m\n"
     ]
    }
   ],
   "source": [
    "%%time\n",
    "\n",
    "## ADD scenario_info as lambda to objective function\n",
    "## ADD scenario_info to calc_total_deaths\n",
    "\n",
    "\n",
    "#all the movements configuration and flatten them with ravel()\n",
    "movements = [no_movement, \n",
    "             random_init(), \n",
    "             random_init(movement_intensity=0.75), \n",
    "             random_init(movement_intensity=0.5), \n",
    "             random_init(movement_intensity=0.25), \n",
    "             random_init(movement_intensity=0.1)]\n",
    "#movements = [x.ravel() for x in movements]\n",
    "\n",
    "#parameters to minimize\n",
    "min_deaths = sys.maxsize\n",
    "best_result = None\n",
    "result_matrix = None\n",
    "for movement_intensity in np.arange(0, 1.1, 0.1):\n",
    "    print(f\"Intensity:{movement_intensity:.1f}...\", end=\"\")\n",
    "    movement = random_init(movement_intensity=movement_intensity) if movement_intensity else no_movement\n",
    "    movement = movement.ravel()\n",
    "    bounds_movement = generate_bounds(scenario_info)\n",
    "    #the actual\n",
    "    result = optimize.minimize(lambda x: calc_total_deaths(x, scenario_info), \n",
    "                               movement,\n",
    "                               method='SLSQP', \n",
    "                               constraints=cons, \n",
    "                               bounds=bounds_movement)\n",
    "    \n",
    "    current_deaths = calc_total_deaths(np.rint(result.x), scenario_info)\n",
    "    if min_deaths > current_deaths: \n",
    "        print(\"best! \", end=\"\")\n",
    "        min_deaths = int(current_deaths)\n",
    "        best_result = result\n",
    "        result_matrix = np.reshape(np.rint(result.x),(num_days,num_nodes,num_nodes))\n",
    "print(\"Done\")"
   ]
  },
  {
   "cell_type": "code",
   "execution_count": null,
   "metadata": {
    "ExecuteTime": {
     "end_time": "2020-04-10T10:37:10.540543Z",
     "start_time": "2020-04-10T10:37:10.519542Z"
    },
    "collapsed": true
   },
   "outputs": [],
   "source": [
    "scenario_info = {\n",
    "     'node_capacities' : node_capacities # how much capacity in each hospital. Size: [Nodes]\n",
    "    ,'transport_capacities' : transport_capacities # Size: [Nodes]\n",
    "    ,'demands' : demands #Size: [Days, Nodes]\n",
    "    ,'num_days': num_days # int \n",
    "    ,'num_nodes':num_nodes # int\n",
    "    ,'node_distances' : None #Size: [Nodes, Nodes]\n",
    "    ,'transport_cost': 0 #float   \n",
    "}"
   ]
  },
  {
   "cell_type": "code",
   "execution_count": null,
   "metadata": {
    "ExecuteTime": {
     "end_time": "2020-04-10T10:37:40.323259Z",
     "start_time": "2020-04-10T10:37:39.172250Z"
    }
   },
   "outputs": [],
   "source": [
    "plot_scenario_overview(movements, [scenario_info for _ in range(len(movements))])"
   ]
  },
  {
   "cell_type": "code",
   "execution_count": null,
   "metadata": {
    "ExecuteTime": {
     "end_time": "2020-04-10T09:31:24.864637Z",
     "start_time": "2020-04-10T09:31:24.859654Z"
    }
   },
   "outputs": [],
   "source": [
    "len(movements)"
   ]
  },
  {
   "cell_type": "code",
   "execution_count": null,
   "metadata": {
    "ExecuteTime": {
     "end_time": "2020-04-10T09:45:15.789583Z",
     "start_time": "2020-04-10T09:45:14.763584Z"
    }
   },
   "outputs": [],
   "source": [
    "import matplotlib.pyplot as plt\n",
    "\n",
    "def plot_deaths(deaths, ax=None):\n",
    "    \n",
    "    if type(deaths) != dict:\n",
    "        print('wrong data type, expecting dictionary of arrays')\n",
    "        print(type(deaths))\n",
    "        return\n",
    "    if ax is None:\n",
    "        ax=plt.gca()\n",
    "        \n",
    "    ax.plot(deaths['unattended'].sum(axis=1), label='unattended', c='r')\n",
    "    ax.plot(deaths['transport'].sum(axis=1), label='transport', c='g')\n",
    "    ax.plot(deaths['total'].sum(axis=1), label='total', c='k')\n",
    "#     ax2 = ax.twinx()\n",
    "#     ax2.plot(deaths['total'].sum(axis=1).cumsum(), label='cumulativesum')\n",
    "    \n",
    "    ax.legend()\n",
    "\n",
    "def plot_scenario_overview(movements, titles = None):\n",
    "    \"\"\"\n",
    "        movement is a list of array[day, node_from, node_to]\n",
    "    \"\"\"\n",
    "    if type(movements) != list:\n",
    "        print('wrong data type, excepting a list of movements')\n",
    "        return\n",
    "    \n",
    "    maxcols = 4\n",
    "    rows = 1+len(movements)//maxcols\n",
    "    cols = min(len(movements),maxcols)\n",
    "    \n",
    "    fig, subps = plt.subplots(rows,cols,sharey='all', figsize=(4*cols,4*rows))\n",
    "    \n",
    "    subps = subps.flatten()\n",
    "    \n",
    "    for i, m in enumerate(movements):\n",
    "        ax = subps[i]\n",
    "        if titles is None:\n",
    "            ax.set_title(f'Transport Scenario {i}')\n",
    "        else:\n",
    "            ax.set_title(titles[i])\n",
    "            \n",
    "        plot_deaths(calc_daily_deaths(movements=m), ax=ax)\n",
    "\n",
    "#     ax = subps[1]\n",
    "#     ax.set_title('Transport Scenario 1')\n",
    "#     plot_deaths(calc_daily_deaths(movements=movements[1]), ax=ax)\n",
    "#     ax = subps[2]\n",
    "#     ax.set_title('Transport Scenario 2')\n",
    "#     plot_deaths(calc_daily_deaths(movements=movements[2]), ax=ax)\n",
    "\n",
    "plot_scenario_overview(movements)"
   ]
  },
  {
   "cell_type": "code",
   "execution_count": null,
   "metadata": {
    "ExecuteTime": {
     "end_time": "2020-04-10T08:26:32.197974Z",
     "start_time": "2020-04-10T08:26:32.191972Z"
    }
   },
   "outputs": [],
   "source": [
    "num_days, num_nodes\n",
    "node_capacities, transport_capacities, demands"
   ]
  },
  {
   "cell_type": "code",
   "execution_count": null,
   "metadata": {
    "collapsed": true
   },
   "outputs": [],
   "source": []
  },
  {
   "cell_type": "code",
   "execution_count": null,
   "metadata": {
    "ExecuteTime": {
     "end_time": "2020-04-10T08:03:50.576614Z",
     "start_time": "2020-04-10T08:03:50.569612Z"
    }
   },
   "outputs": [],
   "source": [
    "movements[0]"
   ]
  },
  {
   "cell_type": "markdown",
   "metadata": {},
   "source": [
    "### These are the deaths that we get with inaction"
   ]
  },
  {
   "cell_type": "code",
   "execution_count": null,
   "metadata": {
    "scrolled": false
   },
   "outputs": [],
   "source": [
    "calc_total_deaths(no_movement)"
   ]
  },
  {
   "cell_type": "markdown",
   "metadata": {},
   "source": [
    "### This is the best result found"
   ]
  },
  {
   "cell_type": "code",
   "execution_count": null,
   "metadata": {},
   "outputs": [],
   "source": [
    "min_deaths"
   ]
  },
  {
   "cell_type": "markdown",
   "metadata": {},
   "source": [
    "### This the movement matrix"
   ]
  },
  {
   "cell_type": "code",
   "execution_count": null,
   "metadata": {},
   "outputs": [],
   "source": [
    "result_matrix"
   ]
  },
  {
   "cell_type": "markdown",
   "metadata": {},
   "source": []
  },
  {
   "cell_type": "code",
   "execution_count": null,
   "metadata": {
    "scrolled": false
   },
   "outputs": [],
   "source": [
    "for node in range(num_nodes):\n",
    "    for day in range(num_days):\n",
    "        print(f'Node: {node}, Day: {day}, Demand: {demand_day_node(np.rint(result.x),day,node)}')"
   ]
  },
  {
   "cell_type": "code",
   "execution_count": null,
   "metadata": {},
   "outputs": [],
   "source": [
    "demand_day_node(np.rint(result.x),3,2)"
   ]
  },
  {
   "cell_type": "markdown",
   "metadata": {},
   "source": [
    "# SANDBOX"
   ]
  },
  {
   "cell_type": "code",
   "execution_count": null,
   "metadata": {
    "scrolled": false
   },
   "outputs": [],
   "source": [
    "prob_death_transport = 0\n",
    "num_days = 1\n",
    "num_nodes = 2\n",
    "node_capacities, transport_capacities, demands, movements_orig = init_simulation(num_nodes, num_days)\n",
    "print(f\"\"\"Randomly generated\n",
    "{num_days} days, {num_nodes} hospitals\n",
    "ICU capacities of hospitals: {node_capacities}\n",
    "Daily transport capacities: {transport_capacities}, \n",
    "Daily simulated demand (from uniform distrution): \n",
    "{demands}\"\"\")\n",
    "\n",
    "movements = movements_orig.ravel()"
   ]
  },
  {
   "cell_type": "code",
   "execution_count": null,
   "metadata": {
    "collapsed": true
   },
   "outputs": [],
   "source": []
  }
 ],
 "metadata": {
  "kernelspec": {
   "display_name": "Python 3",
   "language": "python",
   "name": "python3"
  },
  "language_info": {
   "codemirror_mode": {
    "name": "ipython",
    "version": 3
   },
   "file_extension": ".py",
   "mimetype": "text/x-python",
   "name": "python",
   "nbconvert_exporter": "python",
   "pygments_lexer": "ipython3",
   "version": "3.6.8"
  },
  "toc": {
   "base_numbering": 1,
   "nav_menu": {},
   "number_sections": true,
   "sideBar": true,
   "skip_h1_title": false,
   "title_cell": "Table of Contents",
   "title_sidebar": "Contents",
   "toc_cell": false,
   "toc_position": {},
   "toc_section_display": true,
   "toc_window_display": false
  },
  "varInspector": {
   "cols": {
    "lenName": 16,
    "lenType": 16,
    "lenVar": 40
   },
   "kernels_config": {
    "python": {
     "delete_cmd_postfix": "",
     "delete_cmd_prefix": "del ",
     "library": "var_list.py",
     "varRefreshCmd": "print(var_dic_list())"
    },
    "r": {
     "delete_cmd_postfix": ") ",
     "delete_cmd_prefix": "rm(",
     "library": "var_list.r",
     "varRefreshCmd": "cat(var_dic_list()) "
    }
   },
   "types_to_exclude": [
    "module",
    "function",
    "builtin_function_or_method",
    "instance",
    "_Feature"
   ],
   "window_display": false
  }
 },
 "nbformat": 4,
 "nbformat_minor": 2
}

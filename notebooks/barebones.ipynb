{
 "cells": [
  {
   "cell_type": "code",
   "execution_count": 1,
   "metadata": {
    "ExecuteTime": {
     "end_time": "2020-04-10T08:33:07.878495Z",
     "start_time": "2020-04-10T08:33:06.909498Z"
    }
   },
   "outputs": [],
   "source": [
    "import numpy as np\n",
    "from simulationmodel import *\n",
    "from viz import *"
   ]
  },
  {
   "cell_type": "code",
   "execution_count": null,
   "metadata": {
    "collapsed": true
   },
   "outputs": [],
   "source": [
    "%load_ext autoreload\n",
    "%autoreload"
   ]
  },
  {
   "cell_type": "code",
   "execution_count": 2,
   "metadata": {
    "ExecuteTime": {
     "end_time": "2020-04-10T08:33:07.899496Z",
     "start_time": "2020-04-10T08:33:07.881498Z"
    }
   },
   "outputs": [
    {
     "name": "stdout",
     "output_type": "stream",
     "text": [
      "Randomly generated\n",
      "10 days, 4 hospitals\n",
      "ICU capacities of hospitals: [30000, 20, 80, 1000]\n",
      "Daily transport capacities: [50, 60, 70, 80], \n",
      "Daily simulated demand (from uniform distrution): \n",
      "[[74, 78, 68, 69, 69, 68, 64, 89, 94, 61], [66, 88, 78, 81, 67, 98, 87, 97, 98, 88], [66, 80, 80, 91, 75, 95, 78, 91, 83, 60], [77, 96, 72, 74, 81, 78, 84, 61, 93, 70]]\n"
     ]
    }
   ],
   "source": [
    "prob_death_transport = 0\n",
    "num_days = 10\n",
    "num_nodes = 4\n",
    "node_capacities, transport_capacities, demands = init_simulation(num_nodes, \n",
    "                                                                 num_days, \n",
    "                                                                 icu_capacities=[30000, 20, 80, 1000],\n",
    "                                                                 transport_capacities=[50, 60, 70, 80], \n",
    "                                                                 demand_min = 60, demand_max=100)\n",
    "print(f\"\"\"Randomly generated\n",
    "{num_days} days, {num_nodes} hospitals\n",
    "ICU capacities of hospitals: {node_capacities}\n",
    "Daily transport capacities: {transport_capacities}, \n",
    "Daily simulated demand (from uniform distrution): \n",
    "{demands}\"\"\")"
   ]
  },
  {
   "cell_type": "code",
   "execution_count": 3,
   "metadata": {
    "ExecuteTime": {
     "end_time": "2020-04-10T08:33:07.915496Z",
     "start_time": "2020-04-10T08:33:07.903496Z"
    },
    "collapsed": true
   },
   "outputs": [],
   "source": [
    "no_movement = np.zeros((num_days, num_nodes, num_nodes))"
   ]
  },
  {
   "cell_type": "code",
   "execution_count": 4,
   "metadata": {
    "ExecuteTime": {
     "end_time": "2020-04-10T08:33:07.943496Z",
     "start_time": "2020-04-10T08:33:07.919498Z"
    }
   },
   "outputs": [],
   "source": [
    "scenario_info = {\n",
    "     'node_capacities' : node_capacities # how much capacity in each hospital. Size: [Nodes]\n",
    "    ,'transport_capacities' : transport_capacities # Size: [Nodes]\n",
    "    ,'demands' : demands #Size: [Days, Nodes]\n",
    "    ,'num_days': num_days # int \n",
    "    ,'num_nodes':num_nodes # int\n",
    "    ,'node_distances' : None #Size: [Nodes, Nodes]\n",
    "    ,'prob_death_per_transport': 0 #float\n",
    "    \n",
    "}"
   ]
  },
  {
   "cell_type": "code",
   "execution_count": 5,
   "metadata": {
    "ExecuteTime": {
     "end_time": "2020-04-10T08:33:08.296496Z",
     "start_time": "2020-04-10T08:33:07.949498Z"
    }
   },
   "outputs": [
    {
     "data": {
      "image/png": "[encoded data removed]",
      "text/plain": [
       "<Figure size 288x288 with 1 Axes>"
      ]
     },
     "metadata": {
      "needs_background": "light"
     },
     "output_type": "display_data"
    }
   ],
   "source": [
    "plot_scenario_overview([no_movement], [scenario_info])"
   ]
  }
 ],
 "metadata": {
  "kernelspec": {
   "display_name": "Python [conda env:py36]",
   "language": "python",
   "name": "conda-env-py36-py"
  },
  "language_info": {
   "codemirror_mode": {
    "name": "ipython",
    "version": 3
   },
   "file_extension": ".py",
   "mimetype": "text/x-python",
   "name": "python",
   "nbconvert_exporter": "python",
   "pygments_lexer": "ipython3",
   "version": "3.6.7"
  },
  "toc": {
   "base_numbering": 1,
   "nav_menu": {},
   "number_sections": true,
   "sideBar": true,
   "skip_h1_title": false,
   "title_cell": "Table of Contents",
   "title_sidebar": "Contents",
   "toc_cell": false,
   "toc_position": {},
   "toc_section_display": true,
   "toc_window_display": false
  },
  "varInspector": {
   "cols": {
    "lenName": 16,
    "lenType": 16,
    "lenVar": 40
   },
   "kernels_config": {
    "python": {
     "delete_cmd_postfix": "",
     "delete_cmd_prefix": "del ",
     "library": "var_list.py",
     "varRefreshCmd": "print(var_dic_list())"
    },
    "r": {
     "delete_cmd_postfix": ") ",
     "delete_cmd_prefix": "rm(",
     "library": "var_list.r",
     "varRefreshCmd": "cat(var_dic_list()) "
    }
   },
   "types_to_exclude": [
    "module",
    "function",
    "builtin_function_or_method",
    "instance",
    "_Feature"
   ],
   "window_display": false
  }
 },
 "nbformat": 4,
 "nbformat_minor": 2
}

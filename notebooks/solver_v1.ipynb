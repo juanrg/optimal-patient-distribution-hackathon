{
 "cells": [
  {
   "cell_type": "code",
   "execution_count": 24,
   "metadata": {},
   "outputs": [],
   "source": [
    "import numpy as np\n",
    "import scipy.optimize as optimize"
   ]
  },
  {
   "cell_type": "code",
   "execution_count": 63,
   "metadata": {},
   "outputs": [],
   "source": [
    "node_capacities = [10,5]\n",
    "transport_capacities = [1,1]\n",
    "demands = [[2,4,5,3],[0,1,1,1]]\n",
    "movements_orig = np.array(\n",
    "                  [[[0,0],\n",
    "                   [0,0]],\n",
    "                  [[0,0],\n",
    "                   [0,0]],\n",
    "                  [[0,0],\n",
    "                   [0,0]],\n",
    "                  [[0,0],\n",
    "                   [0,0]],\n",
    "                 ])\n",
    "\n",
    "movements = movements_orig.ravel()\n",
    "prob_death_transport = 0.05\n",
    "num_days = len(demands[0])\n",
    "num_nodes = len(node_capacities)"
   ]
  },
  {
   "cell_type": "code",
   "execution_count": 64,
   "metadata": {},
   "outputs": [],
   "source": [
    "def calculate_outgoing(array,day,node):\n",
    "    return sum(array[day][node])\n",
    "\n",
    "def calculate_incoming(array,day,node):\n",
    "    total_outgoing = 0\n",
    "    for n in range(num_nodes):\n",
    "        total_outgoing = total_outgoing + array[day][n][node]\n",
    "    return total_outgoing\n",
    "\n",
    "def demand_day_node_raw(demand_day, node_capacity, demand_previous_days, left_previous_days, received_previous_days):\n",
    "    return demand_day + min(demand_previous_days-left_previous_days+received_previous_days, node_capacity)\n",
    "\n",
    "\n",
    "def demand_day_node(movements,day,node):\n",
    "    movements_res = np.reshape(movements,(num_days,num_nodes,num_nodes))\n",
    "    incoming_patients = calculate_incoming(movements_res,day,node)\n",
    "    outgoing_patients = calculate_outgoing(movements_res,day,node)\n",
    "    if(day==0):\n",
    "        prev_demand = 0\n",
    "    else:\n",
    "        prev_demand = demand_day_node(movements,day-1,node)\n",
    "        \n",
    "    demand = max(0, demand_day_node_raw(demands[node][day], node_capacities[node],\n",
    "                                 prev_demand,                                 \n",
    "                                 outgoing_patients, incoming_patients))\n",
    "    return demand\n",
    "\n",
    "\n",
    "def calc_total_deaths(movements):\n",
    "    total = 0\n",
    "    movements_res = np.reshape(movements,(num_days,num_nodes,num_nodes))\n",
    "    for node in range(num_nodes):\n",
    "        for day in range(num_days):\n",
    "            deaths_not_attended = max(0, demand_day_node(movements,day,node) - node_capacities[node])\n",
    "            deaths_transport = prob_death_transport*movements_res[day].sum()\n",
    "            total = total + deaths_not_attended + deaths_transport\n",
    "            \n",
    "    return total\n",
    "\n",
    "\n",
    "def outgoing_list(movements):\n",
    "    movements_res = np.reshape(movements,(num_days,num_nodes,num_nodes))\n",
    "    outgoing_list = list()\n",
    "    for day in range(num_days):\n",
    "        for node in range(num_nodes):\n",
    "            outgoing_list.append(calculate_outgoing(movements_res,day,node))\n",
    "    return outgoing_list\n",
    "\n",
    "\n",
    "def generate_bounds():\n",
    "    outgoing_list = list()\n",
    "    for day in range(num_days):\n",
    "        for outgoing_node in range(num_nodes):\n",
    "            for incoming_node in range(num_nodes):\n",
    "                outgoing_list.append((0,transport_capacities[outgoing_node]))\n",
    "    return outgoing_list\n",
    "\n",
    "\n",
    "def f_cons(a, b, c):\n",
    "    return lambda x: transport_capacities[a] - calculate_outgoing(np.reshape(x,(num_days,num_nodes,num_nodes)),b ,c)\n",
    "\n",
    "\n",
    "cons = ({'type': 'ineq', 'fun': f_cons(0,0,0)},\n",
    "        {'type': 'ineq', 'fun': f_cons(1,0,1)},\n",
    "        {'type': 'ineq', 'fun': f_cons(0,1,0)},\n",
    "        {'type': 'ineq', 'fun': f_cons(1,1,1)},\n",
    "        {'type': 'ineq', 'fun': f_cons(0,2,0)},\n",
    "        {'type': 'ineq', 'fun': f_cons(1,2,1)},\n",
    "        {'type': 'ineq', 'fun': f_cons(0,3,0)},\n",
    "        {'type': 'ineq', 'fun': f_cons(1,3,1)})"
   ]
  },
  {
   "cell_type": "code",
   "execution_count": 57,
   "metadata": {},
   "outputs": [],
   "source": [
    "initial_guess = movements.copy()"
   ]
  },
  {
   "cell_type": "code",
   "execution_count": 58,
   "metadata": {},
   "outputs": [],
   "source": [
    "bounds_movement = generate_bounds()\n",
    "result = optimize.minimize(calc_total_deaths, initial_guess, method='SLSQP', constraints=cons, bounds=bounds_movement)"
   ]
  },
  {
   "cell_type": "code",
   "execution_count": 59,
   "metadata": {
    "scrolled": true
   },
   "outputs": [
    {
     "data": {
      "text/plain": [
       "array([6.82045155e-16, 6.66668349e-01, 5.24241027e-16, 5.20888327e-16,\n",
       "       5.22594782e-16, 6.66668349e-01, 6.02232050e-16, 6.39033715e-16,\n",
       "       5.64879656e-17, 6.66668349e-01, 1.86470824e-17, 3.08065993e-17,\n",
       "       1.14465308e-16, 1.69482205e-16, 1.36097590e-16, 1.28119378e-16])"
      ]
     },
     "execution_count": 59,
     "metadata": {},
     "output_type": "execute_result"
    }
   ],
   "source": [
    "result.x"
   ]
  },
  {
   "cell_type": "code",
   "execution_count": 60,
   "metadata": {},
   "outputs": [
    {
     "data": {
      "text/plain": [
       "array([0., 1., 0., 0., 0., 1., 0., 0., 0., 1., 0., 0., 0., 0., 0., 0.])"
      ]
     },
     "execution_count": 60,
     "metadata": {},
     "output_type": "execute_result"
    }
   ],
   "source": [
    "np.rint(result.x)"
   ]
  },
  {
   "cell_type": "code",
   "execution_count": 61,
   "metadata": {},
   "outputs": [
    {
     "data": {
      "text/plain": [
       "2.3"
      ]
     },
     "execution_count": 61,
     "metadata": {},
     "output_type": "execute_result"
    }
   ],
   "source": [
    "calc_total_deaths(np.rint(result.x))"
   ]
  },
  {
   "cell_type": "code",
   "execution_count": 62,
   "metadata": {},
   "outputs": [
    {
     "data": {
      "text/plain": [
       "4.0"
      ]
     },
     "execution_count": 62,
     "metadata": {},
     "output_type": "execute_result"
    }
   ],
   "source": [
    "calc_total_deaths(movements)"
   ]
  },
  {
   "cell_type": "code",
   "execution_count": null,
   "metadata": {},
   "outputs": [],
   "source": []
  }
 ],
 "metadata": {
  "kernelspec": {
   "display_name": "Python 3",
   "language": "python",
   "name": "python3"
  },
  "language_info": {
   "codemirror_mode": {
    "name": "ipython",
    "version": 3
   },
   "file_extension": ".py",
   "mimetype": "text/x-python",
   "name": "python",
   "nbconvert_exporter": "python",
   "pygments_lexer": "ipython3",
   "version": "3.6.9"
  }
 },
 "nbformat": 4,
 "nbformat_minor": 2
}

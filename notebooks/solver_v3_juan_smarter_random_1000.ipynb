{
 "cells": [
  {
   "cell_type": "markdown",
   "metadata": {},
   "source": [
    "### TODO\n",
    "\n",
    "- Find the right way to turn the solution into integers"
   ]
  },
  {
   "cell_type": "code",
   "execution_count": 1,
   "metadata": {},
   "outputs": [
    {
     "name": "stdout",
     "output_type": "stream",
     "text": [
      "Exception reporting mode: Plain\n"
     ]
    }
   ],
   "source": [
    "from random import randint\n",
    "import sys\n",
    "\n",
    "import numpy as np\n",
    "import scipy.optimize as optimize\n",
    "import pandas as pd\n",
    "import matplotlib.pyplot as plt\n",
    "\n",
    "plt.style.use(\"seaborn-whitegrid\")\n",
    "%matplotlib inline\n",
    "%config InlineBackend.figure_format = 'svg'\n",
    "%xmode plain\n",
    "\n",
    "def init_simulation(num_nodes, \n",
    "                    num_days, \n",
    "                    icu_capacities = None, \n",
    "                    transport_capacities = None, \n",
    "                    ini_path = None, \n",
    "                    demand_min = 80, \n",
    "                    demand_max = 90,\n",
    "                    icu_min = 10,\n",
    "                    icu_max = 300,\n",
    "                    transport_min = 20,\n",
    "                    transport_max = 30):\n",
    "    if ini_path:\n",
    "        print(\"you can also upload an .ini file\")\n",
    "        raise NotImplemented\n",
    "    else:\n",
    "        demand = []\n",
    "        for node in range(num_nodes):\n",
    "            demand.append(list(np.random.randint(demand_min, demand_max, size = num_days)))\n",
    "        \n",
    "        icu_capacities = icu_capacities if icu_capacities else list(np.random.randint(icu_min, \n",
    "                                                                                      icu_max, \n",
    "                                                                                      size = num_nodes))\n",
    "        transport_capacities = transport_capacities if transport_capacities else list(np.random.randint(transport_min, \n",
    "                                                                                                        transport_max, \n",
    "                                                                                                        size = num_nodes)) \n",
    "    return icu_capacities, transport_capacities, demand\n",
    "\n",
    "\n",
    "def calculate_outgoing(array,day,node):\n",
    "    return sum(array[day][node])\n",
    "\n",
    "\n",
    "def calculate_incoming(array,day,node):\n",
    "    total_outgoing = 0\n",
    "    for n in range(num_nodes):\n",
    "        total_outgoing = total_outgoing + array[day][n][node]\n",
    "    return total_outgoing\n",
    "\n",
    "\n",
    "def demand_day_node_raw(node_capacity, demand_day, left_day, received_day, demand_previous_days, left_previous_days, received_previous_days):\n",
    "    return demand_day - left_day + received_day+ min(demand_previous_days-left_previous_days+received_previous_days, node_capacity)\n",
    "\n",
    "\n",
    "def demand_day_node(movements,day,node):\n",
    "    movements_res = np.reshape(movements,(num_days,num_nodes,num_nodes))\n",
    "    total_received_patients = 0\n",
    "    total_outbound_patients = 0\n",
    "    accumulated_demand = 0\n",
    "    for d in range(day):\n",
    "        total_received_patients = total_received_patients + calculate_incoming(movements_res,d,node)\n",
    "        total_outbound_patients = total_outbound_patients + calculate_outgoing(movements_res,d,node)\n",
    "    accumulated_demand = sum(demands[node][:day])\n",
    "    \n",
    "    demand = max(0, demand_day_node_raw(node_capacities[node],demands[node][day], \n",
    "                                        calculate_outgoing(movements_res,day,node), calculate_incoming(movements_res,day,node),\n",
    "                                        accumulated_demand, total_outbound_patients, total_received_patients                \n",
    "                ))\n",
    "    return demand\n",
    "\n",
    "\n",
    "def calc_total_deaths(movements):\n",
    "    total = 0\n",
    "    movements_res = np.reshape(movements,(num_days,num_nodes,num_nodes))\n",
    "    for node in range(num_nodes):\n",
    "        for day in range(num_days):\n",
    "            deaths_not_attended = max(0, demand_day_node(movements,day,node) - node_capacities[node])\n",
    "            deaths_transport = prob_death_transport*movements_res[day].sum()\n",
    "            total = total + deaths_not_attended + deaths_transport\n",
    "    return total\n",
    "\n",
    "\n",
    "def outgoing_list(movements):\n",
    "    movements_res = np.reshape(movements,(num_days,num_nodes,num_nodes))\n",
    "    outgoing_list = list()\n",
    "    for day in range(num_days):\n",
    "        for node in range(num_nodes):\n",
    "            outgoing_list.append(calculate_outgoing(movements_res,day,node))\n",
    "    return outgoing_list\n",
    "\n",
    "def generate_bounds():\n",
    "    outgoing_list = list()\n",
    "    for day in range(num_days):\n",
    "        for outgoing_node in range(num_nodes):\n",
    "            for incoming_node in range(num_nodes):\n",
    "                outgoing_list.append((0,transport_capacities[outgoing_node]))\n",
    "    return outgoing_list\n",
    "\n",
    "def f_cons(node_id, day):\n",
    "    return lambda x: transport_capacities[node_id] - calculate_outgoing(np.reshape(x,(num_days,num_nodes,num_nodes)),day ,node_id)\n",
    "\n",
    "\n",
    "def split_n(num, num_nodes):\n",
    "    #TODO this function is not truly random\n",
    "    pieces = []\n",
    "    for idx in range(num_nodes-1):\n",
    "        pieces.append(randint(1,num-sum(pieces)-num_nodes+idx))\n",
    "\n",
    "    pieces.append(num-sum(pieces))\n",
    "    return pieces"
   ]
  },
  {
   "cell_type": "code",
   "execution_count": 67,
   "metadata": {
    "scrolled": false
   },
   "outputs": [
    {
     "name": "stdout",
     "output_type": "stream",
     "text": [
      "Randomly generated\n",
      "5 days, 4 hospitals\n",
      "ICU capacities of hospitals: [3000, 200, 100, 50]\n",
      "Daily transport capacities: [0, 0, 0, 100], \n",
      "Daily simulated demand (from uniform distrution): \n",
      "[[80, 119, 113, 85, 118], [78, 92, 63, 67, 64], [99, 77, 77, 97, 63], [104, 111, 73, 108, 104]]\n"
     ]
    }
   ],
   "source": [
    "prob_death_transport = 0\n",
    "num_days = 5\n",
    "num_nodes = 4\n",
    "node_capacities, transport_capacities, demands = init_simulation(num_nodes, \n",
    "                                                                 num_days, \n",
    "                                                                 icu_capacities=[3000, 200, 100, 50],\n",
    "                                                                 transport_capacities=[0, 0, 0, 100], \n",
    "                                                                 demand_min = 60, demand_max=120)\n",
    "print(f\"\"\"Randomly generated\n",
    "{num_days} days, {num_nodes} hospitals\n",
    "ICU capacities of hospitals: {node_capacities}\n",
    "Daily transport capacities: {transport_capacities}, \n",
    "Daily simulated demand (from uniform distrution): \n",
    "{demands}\"\"\")"
   ]
  },
  {
   "cell_type": "code",
   "execution_count": 68,
   "metadata": {},
   "outputs": [],
   "source": [
    "#define constraints\n",
    "cons = []\n",
    "for node in range(num_nodes):\n",
    "    for day in range(num_days):\n",
    "        cons.append({'type': 'ineq', 'fun': f_cons(node,day)})\n",
    "\n",
    "        \n",
    "#no movement matrix, the base for generating random ones and one of the ones to test as init matrix \n",
    "no_movement = np.array([[[0]*num_nodes]*num_nodes]*num_days)"
   ]
  },
  {
   "cell_type": "code",
   "execution_count": 69,
   "metadata": {},
   "outputs": [],
   "source": [
    "def random_init(knockdown_days = False, movement_intensity = 1, random_intensity = False, prior_matrix = np.array([])): \n",
    "    random_movement = prior_matrix.copy() if prior_matrix.any() else no_movement.copy()\n",
    "    #if knockdown days is active, behave like a dropdown NN layer and drop half of the days movements\n",
    "    active_days = np.random.choice([1,0], size=num_days) if knockdown_days else [1]*num_days\n",
    "    for day in range(num_days):\n",
    "        if active_days[day]:\n",
    "            for node_x in range(num_nodes):\n",
    "                movement_intensity = np.random.uniform() if random_intensity else movement_intensity\n",
    "                #splits a number in a list of numbers pseudo randomly\n",
    "                split_nodes = split_n(max(num_nodes+1, \n",
    "                                          np.ceil(transport_capacities[node_x]*movement_intensity)), \n",
    "                                      num_nodes)\n",
    "                for node_y in range(num_nodes):\n",
    "                    if node_x != node_y: #the ones that move to \"self\" are actually staying\n",
    "                        random_movement[day, node_x, node_y] += split_nodes[node_y]\n",
    "                    \n",
    "    return random_movement"
   ]
  },
  {
   "cell_type": "markdown",
   "metadata": {},
   "source": [
    "### The main loop that generates random init matrices"
   ]
  },
  {
   "cell_type": "code",
   "execution_count": 74,
   "metadata": {
    "scrolled": false
   },
   "outputs": [
    {
     "name": "stdout",
     "output_type": "stream",
     "text": [
      "i:0 Result:477 <--best!\n",
      "i:1 Result:477 <--best!\n",
      "i:2 Result:477 <--best!\n",
      "i:3 Result:477 <--best!\n",
      "i:4 Result:477 <--best!\n",
      "i:5 Result:477 <--best!\n",
      "i:6 Result:477 <--best!\n",
      "i:7 Result:477 <--best!\n",
      "i:8 Result:477 <--best!\n",
      "i:9 Result:477 <--best!\n",
      "i:10 Result:477 <--best!\n",
      "i:11 Result:477 <--best!\n",
      "i:12 Result:477 <--best!\n",
      "i:13 Result:477 <--best!\n",
      "i:14 Result:477 <--best!\n",
      "i:15 Result:477 <--best!\n",
      "i:16 Result:477 <--best!\n",
      "i:17 Result:477 <--best!\n",
      "i:18 Result:477 <--best!\n",
      "i:19 Result:477 <--best!\n",
      "i:20 Result:477 <--best!\n",
      "i:21 Result:477 <--best!\n",
      "i:22 Result:477 <--best!\n",
      "i:23 Result:477 <--best!\n",
      "i:24 Result:477 <--best!\n",
      "i:25 Result:477 <--best!\n",
      "i:26 Result:477 <--best!\n",
      "i:27 Result:477 <--best!\n",
      "i:28 Result:477 <--best!\n",
      "i:29 Result:477 <--best!\n",
      "i:30 Result:477 <--best!\n",
      "i:31 Result:477 <--best!\n",
      "i:32 Result:477 <--best!\n",
      "i:33 Result:477 <--best!\n",
      "i:34 Result:477 <--best!\n",
      "i:35 Result:477 <--best!\n",
      "i:36 Result:477 <--best!\n",
      "i:37 Result:477 <--best!\n",
      "i:38 Result:477 <--best!\n",
      "i:39 Result:477 <--best!\n",
      "i:40 Result:477 <--best!\n",
      "i:41 Result:477 <--best!\n",
      "i:42 Result:477 <--best!\n",
      "i:43 Result:477 <--best!\n",
      "i:44 Result:477 <--best!\n",
      "i:45 Result:477 <--best!\n",
      "i:46 Result:477 <--best!\n",
      "i:47 Result:477 <--best!\n",
      "i:48 Result:477 <--best!\n",
      "i:49 Result:477 <--best!\n",
      "\n",
      "Done\n",
      "CPU times: user 37.9 s, sys: 463 ms, total: 38.3 s\n",
      "Wall time: 37.4 s\n"
     ]
    }
   ],
   "source": [
    "%%time\n",
    "\n",
    "#parameters to minimize\n",
    "min_deaths = sys.maxsize\n",
    "best_result = None\n",
    "result_matrix = None\n",
    "#iterate through low to high intensity movement simulation\n",
    "steps = []\n",
    "knockdown = True\n",
    "win_init_matrix = no_movement.copy()\n",
    "iterations = 50\n",
    "movement_intensity = 0.5\n",
    "for i in range(iterations):\n",
    "    print(f\"i:{i} \", end=\"\")\n",
    "    movement = random_init(knockdown, movement_intensity=movement_intensity, prior_matrix=win_init_matrix)\n",
    "    bounds_movement = generate_bounds()\n",
    "    result = optimize.minimize(calc_total_deaths, \n",
    "                               movement, \n",
    "                               method='SLSQP', \n",
    "                               constraints=cons, \n",
    "                               bounds=bounds_movement)\n",
    "\n",
    "    current_deaths = calc_total_deaths(np.rint(result.x))\n",
    "    print(f\"Result:{current_deaths:.0f}\", end=\"\")\n",
    "    steps.append([movement_intensity, knockdown, current_deaths])\n",
    "    if min_deaths >= current_deaths: \n",
    "        print(\" <--best!\", end=\"\")\n",
    "        min_deaths = int(current_deaths)\n",
    "        best_result = result\n",
    "        result_matrix = np.reshape(np.rint(result.x),(num_days,num_nodes,num_nodes))\n",
    "        win_init_matrix = movement\n",
    "\n",
    "    print(\"\")\n",
    "        \n",
    "print(\"\\nDone\")"
   ]
  },
  {
   "cell_type": "markdown",
   "metadata": {},
   "source": [
    "### These are the deaths that we get with inaction"
   ]
  },
  {
   "cell_type": "code",
   "execution_count": 71,
   "metadata": {
    "scrolled": false
   },
   "outputs": [
    {
     "data": {
      "text/plain": [
       "927"
      ]
     },
     "execution_count": 71,
     "metadata": {},
     "output_type": "execute_result"
    }
   ],
   "source": [
    "calc_total_deaths(no_movement)"
   ]
  },
  {
   "cell_type": "markdown",
   "metadata": {},
   "source": [
    "### This is the best result found"
   ]
  },
  {
   "cell_type": "code",
   "execution_count": 72,
   "metadata": {},
   "outputs": [
    {
     "data": {
      "text/plain": [
       "477"
      ]
     },
     "execution_count": 72,
     "metadata": {},
     "output_type": "execute_result"
    }
   ],
   "source": [
    "min_deaths"
   ]
  },
  {
   "cell_type": "markdown",
   "metadata": {},
   "source": [
    "### This the movement matrix"
   ]
  },
  {
   "cell_type": "code",
   "execution_count": 60,
   "metadata": {
    "scrolled": false
   },
   "outputs": [
    {
     "name": "stdout",
     "output_type": "stream",
     "text": [
      "Node: 0, Day: 0, Demand: 312.0\n",
      "Node: 0, Day: 1, Demand: 614.0\n",
      "Node: 0, Day: 2, Demand: 919.0\n",
      "Node: 0, Day: 3, Demand: 1141.0\n",
      "Node: 0, Day: 4, Demand: 1399.0\n",
      "Node: 1, Day: 0, Demand: 59.0\n",
      "Node: 1, Day: 1, Demand: 62.0\n",
      "Node: 1, Day: 2, Demand: 107.0\n",
      "Node: 1, Day: 3, Demand: 114.0\n",
      "Node: 1, Day: 4, Demand: 192.0\n",
      "Node: 2, Day: 0, Demand: 0\n",
      "Node: 2, Day: 1, Demand: 38.0\n",
      "Node: 2, Day: 2, Demand: 55.0\n",
      "Node: 2, Day: 3, Demand: 96.0\n",
      "Node: 2, Day: 4, Demand: 98.0\n",
      "Node: 3, Day: 0, Demand: 0\n",
      "Node: 3, Day: 1, Demand: 9.0\n",
      "Node: 3, Day: 2, Demand: 25.0\n",
      "Node: 3, Day: 3, Demand: 37.0\n",
      "Node: 3, Day: 4, Demand: 27.0\n"
     ]
    }
   ],
   "source": [
    "for node in range(num_nodes):\n",
    "    for day in range(num_days):\n",
    "        print(f'Node: {node}, Day: {day}, Demand: {demand_day_node(np.rint(result.x),day,node)}')"
   ]
  },
  {
   "cell_type": "code",
   "execution_count": null,
   "metadata": {},
   "outputs": [],
   "source": []
  }
 ],
 "metadata": {
  "kernelspec": {
   "display_name": "Python 3",
   "language": "python",
   "name": "python3"
  },
  "language_info": {
   "codemirror_mode": {
    "name": "ipython",
    "version": 3
   },
   "file_extension": ".py",
   "mimetype": "text/x-python",
   "name": "python",
   "nbconvert_exporter": "python",
   "pygments_lexer": "ipython3",
   "version": "3.6.9"
  }
 },
 "nbformat": 4,
 "nbformat_minor": 2
}

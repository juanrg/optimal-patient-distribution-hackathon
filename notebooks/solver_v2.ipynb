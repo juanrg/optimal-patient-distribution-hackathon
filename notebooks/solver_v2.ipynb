{
 "cells": [
  {
   "cell_type": "markdown",
   "metadata": {},
   "source": [
    "### TO DO:\n",
    "-Automate the constraint generation\n",
    "\n",
    "-Correct it, it's finding local mimima\n",
    "\n",
    "-Find the right way to turn the solution into integers"
   ]
  },
  {
   "cell_type": "code",
   "execution_count": 36,
   "metadata": {},
   "outputs": [],
   "source": [
    "import numpy as np\n",
    "import scipy.optimize as optimize"
   ]
  },
  {
   "cell_type": "code",
   "execution_count": 43,
   "metadata": {},
   "outputs": [],
   "source": [
    "node_capacities = [10,5,7]\n",
    "transport_capacities = [4,1,1]\n",
    "demands = [[2,4,5,3],[0,1,1,1],[0,3,2,0]]\n",
    "movements_orig = np.array(\n",
    "                  [[[0,0,0],\n",
    "                   [1,0,0],\n",
    "                   [1,0,0]],\n",
    "                  [[0,0,0],\n",
    "                   [1,0,0],\n",
    "                   [1,0,0]],\n",
    "                  [[0,0,0],\n",
    "                   [1,0,0],\n",
    "                   [1,0,0]],\n",
    "                  [[0,0,0],\n",
    "                   [0,0,0],\n",
    "                   [0,0,0]]\n",
    "                 ])\n",
    "prob_death_transport = 0"
   ]
  },
  {
   "cell_type": "code",
   "execution_count": 37,
   "metadata": {},
   "outputs": [],
   "source": [
    "movements = movements_orig.ravel()\n",
    "num_days = len(demands[0])\n",
    "num_nodes = len(node_capacities)"
   ]
  },
  {
   "cell_type": "code",
   "execution_count": 38,
   "metadata": {},
   "outputs": [],
   "source": [
    "def calculate_outgoing(array,day,node):\n",
    "    return sum(array[day][node])\n",
    "\n",
    "\n",
    "def calculate_incoming(array,day,node):\n",
    "    total_outgoing = 0\n",
    "    for n in range(num_nodes):\n",
    "        total_outgoing = total_outgoing + array[day][n][node]\n",
    "    return total_outgoing\n",
    "\n",
    "\n",
    "def demand_day_node_raw(node_capacity, demand_day, left_day, received_day, demand_previous_days, left_previous_days, received_previous_days):\n",
    "    return demand_day - left_day + received_day+ min(demand_previous_days-left_previous_days+received_previous_days, node_capacity)\n",
    "\n",
    "\n",
    "def demand_day_node(movements,day,node):\n",
    "    movements_res = np.reshape(movements,(num_days,num_nodes,num_nodes))\n",
    "    total_received_patients = 0\n",
    "    total_outbound_patients = 0\n",
    "    accumulated_demand = 0\n",
    "    for d in range(day):\n",
    "        total_received_patients = total_received_patients + calculate_incoming(movements_res,d,node)\n",
    "        total_outbound_patients = total_outbound_patients + calculate_outgoing(movements_res,d,node)\n",
    "    accumulated_demand = sum(demands[node][:day])\n",
    "    \n",
    "    demand = max(0, demand_day_node_raw(node_capacities[node],demands[node][day], \n",
    "                                        calculate_outgoing(movements_res,day,node), calculate_incoming(movements_res,day,node),\n",
    "                                        accumulated_demand, total_outbound_patients, total_received_patients                \n",
    "                ))\n",
    "    return demand\n",
    "\n",
    "\n",
    "def calc_total_deaths(movements):\n",
    "    total = 0\n",
    "    movements_res = np.reshape(movements,(num_days,num_nodes,num_nodes))\n",
    "    for node in range(num_nodes):\n",
    "        for day in range(num_days):\n",
    "            deaths_not_attended = max(0, demand_day_node(movements,day,node) - node_capacities[node])\n",
    "            deaths_transport = prob_death_transport*movements_res[day].sum()\n",
    "            total = total + deaths_not_attended + deaths_transport\n",
    "#             print(f'Node: {node}, Day: {day}, Deaths: {deaths_not_attended}, Total: {total}')\n",
    "    return total\n",
    "\n",
    "\n",
    "def outgoing_list(movements):\n",
    "    movements_res = np.reshape(movements,(num_days,num_nodes,num_nodes))\n",
    "    outgoing_list = list()\n",
    "    for day in range(num_days):\n",
    "        for node in range(num_nodes):\n",
    "            outgoing_list.append(calculate_outgoing(movements_res,day,node))\n",
    "    return outgoing_list\n",
    "\n",
    "\n",
    "def generate_bounds():\n",
    "    outgoing_list = list()\n",
    "    for day in range(num_days):\n",
    "        for outgoing_node in range(num_nodes):\n",
    "            for incoming_node in range(num_nodes):\n",
    "                outgoing_list.append((0,transport_capacities[outgoing_node]))\n",
    "    return outgoing_list"
   ]
  },
  {
   "cell_type": "code",
   "execution_count": 39,
   "metadata": {},
   "outputs": [],
   "source": [
    "def cons1(x):\n",
    "    movements_res = np.reshape(x,(num_days,num_nodes,num_nodes))\n",
    "    return transport_capacities[0] - calculate_outgoing(movements_res,0,0)\n",
    "\n",
    "def cons2(x):\n",
    "    movements_res = np.reshape(x,(num_days,num_nodes,num_nodes))\n",
    "    return transport_capacities[1] - calculate_outgoing(movements_res,0,1)\n",
    "\n",
    "def cons3(x):\n",
    "    movements_res = np.reshape(x,(num_days,num_nodes,num_nodes))\n",
    "    return transport_capacities[2] - calculate_outgoing(movements_res,0,2)\n",
    "\n",
    "def cons4(x):\n",
    "    movements_res = np.reshape(x,(num_days,num_nodes,num_nodes))\n",
    "    return transport_capacities[0] - calculate_outgoing(movements_res,1,0)\n",
    "def cons5(x):\n",
    "    movements_res = np.reshape(x,(num_days,num_nodes,num_nodes))\n",
    "    return transport_capacities[1] - calculate_outgoing(movements_res,1,1)\n",
    "def cons6(x):\n",
    "    movements_res = np.reshape(x,(num_days,num_nodes,num_nodes))\n",
    "    return transport_capacities[2] - calculate_outgoing(movements_res,1,2)\n",
    "def cons7(x):\n",
    "    movements_res = np.reshape(x,(num_days,num_nodes,num_nodes))\n",
    "    return transport_capacities[0] - calculate_outgoing(movements_res,2,0)\n",
    "def cons8(x):\n",
    "    movements_res = np.reshape(x,(num_days,num_nodes,num_nodes))\n",
    "    return transport_capacities[1] - calculate_outgoing(movements_res,2,1)\n",
    "def cons9(x):\n",
    "    movements_res = np.reshape(x,(num_days,num_nodes,num_nodes))\n",
    "    return transport_capacities[2] - calculate_outgoing(movements_res,2,2)\n",
    "def cons10(x):\n",
    "    movements_res = np.reshape(x,(num_days,num_nodes,num_nodes))\n",
    "    return transport_capacities[0] - calculate_outgoing(movements_res,3,0)\n",
    "def cons11(x):\n",
    "    movements_res = np.reshape(x,(num_days,num_nodes,num_nodes))\n",
    "    return transport_capacities[1] - calculate_outgoing(movements_res,3,1)\n",
    "def cons12(x):\n",
    "    movements_res = np.reshape(x,(num_days,num_nodes,num_nodes))\n",
    "    return transport_capacities[2] - calculate_outgoing(movements_res,3,2)"
   ]
  },
  {
   "cell_type": "code",
   "execution_count": 40,
   "metadata": {},
   "outputs": [],
   "source": [
    "cons = ({'type': 'ineq', 'fun': cons1},\n",
    "         {'type': 'ineq', 'fun': cons2},\n",
    "         {'type': 'ineq', 'fun': cons3},\n",
    "         {'type': 'ineq', 'fun': cons4},\n",
    "         {'type': 'ineq', 'fun': cons5},\n",
    "         {'type': 'ineq', 'fun': cons6},\n",
    "         {'type': 'ineq', 'fun': cons7},\n",
    "         {'type': 'ineq', 'fun': cons8},\n",
    "         {'type': 'ineq', 'fun': cons9},\n",
    "         {'type': 'ineq', 'fun': cons10},\n",
    "         {'type': 'ineq', 'fun': cons11},\n",
    "         {'type': 'ineq', 'fun': cons12})"
   ]
  },
  {
   "cell_type": "code",
   "execution_count": 41,
   "metadata": {},
   "outputs": [],
   "source": [
    "initial_guess = movements.copy()"
   ]
  },
  {
   "cell_type": "code",
   "execution_count": 44,
   "metadata": {},
   "outputs": [
    {
     "ename": "IndexError",
     "evalue": "index 2 is out of bounds for axis 0 with size 2",
     "output_type": "error",
     "traceback": [
      "\u001b[0;31m---------------------------------------------------------------------------\u001b[0m",
      "\u001b[0;31mIndexError\u001b[0m                                Traceback (most recent call last)",
      "\u001b[0;32m<ipython-input-44-44de571dd4d1>\u001b[0m in \u001b[0;36m<module>\u001b[0;34m()\u001b[0m\n\u001b[1;32m      1\u001b[0m \u001b[0mbounds_movement\u001b[0m \u001b[0;34m=\u001b[0m \u001b[0mgenerate_bounds\u001b[0m\u001b[0;34m(\u001b[0m\u001b[0;34m)\u001b[0m\u001b[0;34m\u001b[0m\u001b[0;34m\u001b[0m\u001b[0m\n\u001b[0;32m----> 2\u001b[0;31m \u001b[0mresult\u001b[0m \u001b[0;34m=\u001b[0m \u001b[0moptimize\u001b[0m\u001b[0;34m.\u001b[0m\u001b[0mminimize\u001b[0m\u001b[0;34m(\u001b[0m\u001b[0mcalc_total_deaths\u001b[0m\u001b[0;34m,\u001b[0m \u001b[0minitial_guess\u001b[0m\u001b[0;34m,\u001b[0m \u001b[0mmethod\u001b[0m\u001b[0;34m=\u001b[0m\u001b[0;34m'SLSQP'\u001b[0m\u001b[0;34m,\u001b[0m \u001b[0mconstraints\u001b[0m\u001b[0;34m=\u001b[0m\u001b[0mcons\u001b[0m\u001b[0;34m,\u001b[0m \u001b[0mbounds\u001b[0m\u001b[0;34m=\u001b[0m\u001b[0mbounds_movement\u001b[0m\u001b[0;34m)\u001b[0m\u001b[0;34m\u001b[0m\u001b[0;34m\u001b[0m\u001b[0m\n\u001b[0m",
      "\u001b[0;32m/usr/local/lib/python3.6/dist-packages/scipy/optimize/_minimize.py\u001b[0m in \u001b[0;36mminimize\u001b[0;34m(fun, x0, args, method, jac, hess, hessp, bounds, constraints, tol, callback, options)\u001b[0m\n\u001b[1;32m    616\u001b[0m     \u001b[0;32melif\u001b[0m \u001b[0mmeth\u001b[0m \u001b[0;34m==\u001b[0m \u001b[0;34m'slsqp'\u001b[0m\u001b[0;34m:\u001b[0m\u001b[0;34m\u001b[0m\u001b[0;34m\u001b[0m\u001b[0m\n\u001b[1;32m    617\u001b[0m         return _minimize_slsqp(fun, x0, args, jac, bounds,\n\u001b[0;32m--> 618\u001b[0;31m                                constraints, callback=callback, **options)\n\u001b[0m\u001b[1;32m    619\u001b[0m     \u001b[0;32melif\u001b[0m \u001b[0mmeth\u001b[0m \u001b[0;34m==\u001b[0m \u001b[0;34m'trust-constr'\u001b[0m\u001b[0;34m:\u001b[0m\u001b[0;34m\u001b[0m\u001b[0;34m\u001b[0m\u001b[0m\n\u001b[1;32m    620\u001b[0m         return _minimize_trustregion_constr(fun, x0, args, jac, hess, hessp,\n",
      "\u001b[0;32m/usr/local/lib/python3.6/dist-packages/scipy/optimize/slsqp.py\u001b[0m in \u001b[0;36m_minimize_slsqp\u001b[0;34m(func, x0, args, jac, bounds, constraints, maxiter, ftol, iprint, disp, eps, callback, **unknown_options)\u001b[0m\n\u001b[1;32m    313\u001b[0m               for c in cons['eq']]))\n\u001b[1;32m    314\u001b[0m     mieq = sum(map(len, [atleast_1d(c['fun'](x, *c['args']))\n\u001b[0;32m--> 315\u001b[0;31m                for c in cons['ineq']]))\n\u001b[0m\u001b[1;32m    316\u001b[0m     \u001b[0;31m# m = The total number of constraints\u001b[0m\u001b[0;34m\u001b[0m\u001b[0;34m\u001b[0m\u001b[0;34m\u001b[0m\u001b[0m\n\u001b[1;32m    317\u001b[0m     \u001b[0mm\u001b[0m \u001b[0;34m=\u001b[0m \u001b[0mmeq\u001b[0m \u001b[0;34m+\u001b[0m \u001b[0mmieq\u001b[0m\u001b[0;34m\u001b[0m\u001b[0;34m\u001b[0m\u001b[0m\n",
      "\u001b[0;32m/usr/local/lib/python3.6/dist-packages/scipy/optimize/slsqp.py\u001b[0m in \u001b[0;36m<listcomp>\u001b[0;34m(.0)\u001b[0m\n\u001b[1;32m    313\u001b[0m               for c in cons['eq']]))\n\u001b[1;32m    314\u001b[0m     mieq = sum(map(len, [atleast_1d(c['fun'](x, *c['args']))\n\u001b[0;32m--> 315\u001b[0;31m                for c in cons['ineq']]))\n\u001b[0m\u001b[1;32m    316\u001b[0m     \u001b[0;31m# m = The total number of constraints\u001b[0m\u001b[0;34m\u001b[0m\u001b[0;34m\u001b[0m\u001b[0;34m\u001b[0m\u001b[0m\n\u001b[1;32m    317\u001b[0m     \u001b[0mm\u001b[0m \u001b[0;34m=\u001b[0m \u001b[0mmeq\u001b[0m \u001b[0;34m+\u001b[0m \u001b[0mmieq\u001b[0m\u001b[0;34m\u001b[0m\u001b[0;34m\u001b[0m\u001b[0m\n",
      "\u001b[0;32m<ipython-input-39-9cf3915bc80d>\u001b[0m in \u001b[0;36mcons3\u001b[0;34m(x)\u001b[0m\n\u001b[1;32m      9\u001b[0m \u001b[0;32mdef\u001b[0m \u001b[0mcons3\u001b[0m\u001b[0;34m(\u001b[0m\u001b[0mx\u001b[0m\u001b[0;34m)\u001b[0m\u001b[0;34m:\u001b[0m\u001b[0;34m\u001b[0m\u001b[0;34m\u001b[0m\u001b[0m\n\u001b[1;32m     10\u001b[0m     \u001b[0mmovements_res\u001b[0m \u001b[0;34m=\u001b[0m \u001b[0mnp\u001b[0m\u001b[0;34m.\u001b[0m\u001b[0mreshape\u001b[0m\u001b[0;34m(\u001b[0m\u001b[0mx\u001b[0m\u001b[0;34m,\u001b[0m\u001b[0;34m(\u001b[0m\u001b[0mnum_days\u001b[0m\u001b[0;34m,\u001b[0m\u001b[0mnum_nodes\u001b[0m\u001b[0;34m,\u001b[0m\u001b[0mnum_nodes\u001b[0m\u001b[0;34m)\u001b[0m\u001b[0;34m)\u001b[0m\u001b[0;34m\u001b[0m\u001b[0;34m\u001b[0m\u001b[0m\n\u001b[0;32m---> 11\u001b[0;31m     \u001b[0;32mreturn\u001b[0m \u001b[0mtransport_capacities\u001b[0m\u001b[0;34m[\u001b[0m\u001b[0;36m2\u001b[0m\u001b[0;34m]\u001b[0m \u001b[0;34m-\u001b[0m \u001b[0mcalculate_outgoing\u001b[0m\u001b[0;34m(\u001b[0m\u001b[0mmovements_res\u001b[0m\u001b[0;34m,\u001b[0m\u001b[0;36m0\u001b[0m\u001b[0;34m,\u001b[0m\u001b[0;36m2\u001b[0m\u001b[0;34m)\u001b[0m\u001b[0;34m\u001b[0m\u001b[0;34m\u001b[0m\u001b[0m\n\u001b[0m\u001b[1;32m     12\u001b[0m \u001b[0;34m\u001b[0m\u001b[0m\n\u001b[1;32m     13\u001b[0m \u001b[0;32mdef\u001b[0m \u001b[0mcons4\u001b[0m\u001b[0;34m(\u001b[0m\u001b[0mx\u001b[0m\u001b[0;34m)\u001b[0m\u001b[0;34m:\u001b[0m\u001b[0;34m\u001b[0m\u001b[0;34m\u001b[0m\u001b[0m\n",
      "\u001b[0;32m<ipython-input-38-847568212b6e>\u001b[0m in \u001b[0;36mcalculate_outgoing\u001b[0;34m(array, day, node)\u001b[0m\n\u001b[1;32m      1\u001b[0m \u001b[0;32mdef\u001b[0m \u001b[0mcalculate_outgoing\u001b[0m\u001b[0;34m(\u001b[0m\u001b[0marray\u001b[0m\u001b[0;34m,\u001b[0m\u001b[0mday\u001b[0m\u001b[0;34m,\u001b[0m\u001b[0mnode\u001b[0m\u001b[0;34m)\u001b[0m\u001b[0;34m:\u001b[0m\u001b[0;34m\u001b[0m\u001b[0;34m\u001b[0m\u001b[0m\n\u001b[0;32m----> 2\u001b[0;31m     \u001b[0;32mreturn\u001b[0m \u001b[0msum\u001b[0m\u001b[0;34m(\u001b[0m\u001b[0marray\u001b[0m\u001b[0;34m[\u001b[0m\u001b[0mday\u001b[0m\u001b[0;34m]\u001b[0m\u001b[0;34m[\u001b[0m\u001b[0mnode\u001b[0m\u001b[0;34m]\u001b[0m\u001b[0;34m)\u001b[0m\u001b[0;34m\u001b[0m\u001b[0;34m\u001b[0m\u001b[0m\n\u001b[0m\u001b[1;32m      3\u001b[0m \u001b[0;34m\u001b[0m\u001b[0m\n\u001b[1;32m      4\u001b[0m \u001b[0;34m\u001b[0m\u001b[0m\n\u001b[1;32m      5\u001b[0m \u001b[0;32mdef\u001b[0m \u001b[0mcalculate_incoming\u001b[0m\u001b[0;34m(\u001b[0m\u001b[0marray\u001b[0m\u001b[0;34m,\u001b[0m\u001b[0mday\u001b[0m\u001b[0;34m,\u001b[0m\u001b[0mnode\u001b[0m\u001b[0;34m)\u001b[0m\u001b[0;34m:\u001b[0m\u001b[0;34m\u001b[0m\u001b[0;34m\u001b[0m\u001b[0m\n",
      "\u001b[0;31mIndexError\u001b[0m: index 2 is out of bounds for axis 0 with size 2"
     ]
    }
   ],
   "source": [
    "bounds_movement = generate_bounds()\n",
    "result = optimize.minimize(calc_total_deaths, initial_guess, method='SLSQP', constraints=cons, bounds=bounds_movement)"
   ]
  },
  {
   "cell_type": "code",
   "execution_count": 30,
   "metadata": {
    "scrolled": true
   },
   "outputs": [
    {
     "data": {
      "text/plain": [
       "array([2.52435490e-28, 9.99511719e-01, 5.22848715e-20, 0.00000000e+00,\n",
       "       0.00000000e+00, 9.99511719e-01, 1.59472155e-19, 0.00000000e+00,\n",
       "       0.00000000e+00, 9.99511719e-01, 2.14994950e-19, 0.00000000e+00,\n",
       "       0.00000000e+00, 9.99511719e-01, 0.00000000e+00, 0.00000000e+00])"
      ]
     },
     "execution_count": 30,
     "metadata": {},
     "output_type": "execute_result"
    }
   ],
   "source": [
    "result.x"
   ]
  },
  {
   "cell_type": "code",
   "execution_count": 31,
   "metadata": {},
   "outputs": [
    {
     "data": {
      "text/plain": [
       "array([[[0., 1.],\n",
       "        [0., 0.]],\n",
       "\n",
       "       [[0., 1.],\n",
       "        [0., 0.]],\n",
       "\n",
       "       [[0., 1.],\n",
       "        [0., 0.]],\n",
       "\n",
       "       [[0., 1.],\n",
       "        [0., 0.]]])"
      ]
     },
     "execution_count": 31,
     "metadata": {},
     "output_type": "execute_result"
    }
   ],
   "source": [
    "np.reshape(np.rint(result.x),(num_days,num_nodes,num_nodes))"
   ]
  },
  {
   "cell_type": "code",
   "execution_count": 32,
   "metadata": {},
   "outputs": [
    {
     "data": {
      "text/plain": [
       "2.0"
      ]
     },
     "execution_count": 32,
     "metadata": {},
     "output_type": "execute_result"
    }
   ],
   "source": [
    "calc_total_deaths(np.rint(result.x))"
   ]
  },
  {
   "cell_type": "code",
   "execution_count": 33,
   "metadata": {
    "scrolled": true
   },
   "outputs": [
    {
     "data": {
      "text/plain": [
       "4"
      ]
     },
     "execution_count": 33,
     "metadata": {},
     "output_type": "execute_result"
    }
   ],
   "source": [
    "calc_total_deaths(movements)"
   ]
  },
  {
   "cell_type": "code",
   "execution_count": 34,
   "metadata": {
    "scrolled": true
   },
   "outputs": [
    {
     "name": "stdout",
     "output_type": "stream",
     "text": [
      "Node: 0, Day: 0, Demand: 1.0\n",
      "Node: 0, Day: 1, Demand: 4.0\n",
      "Node: 0, Day: 2, Demand: 8.0\n",
      "Node: 0, Day: 3, Demand: 10.0\n",
      "Node: 1, Day: 0, Demand: 1.0\n",
      "Node: 1, Day: 1, Demand: 3.0\n",
      "Node: 1, Day: 2, Demand: 5.0\n",
      "Node: 1, Day: 3, Demand: 7.0\n"
     ]
    }
   ],
   "source": [
    "for node in range(num_nodes):\n",
    "    for day in range(num_days):\n",
    "        print(f'Node: {node}, Day: {day}, Demand: {demand_day_node(np.rint(result.x),day,node)}')"
   ]
  },
  {
   "cell_type": "code",
   "execution_count": 35,
   "metadata": {},
   "outputs": [
    {
     "ename": "IndexError",
     "evalue": "index 2 is out of bounds for axis 0 with size 2",
     "output_type": "error",
     "traceback": [
      "\u001b[0;31m---------------------------------------------------------------------------\u001b[0m",
      "\u001b[0;31mIndexError\u001b[0m                                Traceback (most recent call last)",
      "\u001b[0;32m<ipython-input-35-b2a8756727d4>\u001b[0m in \u001b[0;36m<module>\u001b[0;34m()\u001b[0m\n\u001b[0;32m----> 1\u001b[0;31m \u001b[0mdemand_day_node\u001b[0m\u001b[0;34m(\u001b[0m\u001b[0mnp\u001b[0m\u001b[0;34m.\u001b[0m\u001b[0mrint\u001b[0m\u001b[0;34m(\u001b[0m\u001b[0mresult\u001b[0m\u001b[0;34m.\u001b[0m\u001b[0mx\u001b[0m\u001b[0;34m)\u001b[0m\u001b[0;34m,\u001b[0m\u001b[0;36m3\u001b[0m\u001b[0;34m,\u001b[0m\u001b[0;36m2\u001b[0m\u001b[0;34m)\u001b[0m\u001b[0;34m\u001b[0m\u001b[0;34m\u001b[0m\u001b[0m\n\u001b[0m",
      "\u001b[0;32m<ipython-input-25-847568212b6e>\u001b[0m in \u001b[0;36mdemand_day_node\u001b[0;34m(movements, day, node)\u001b[0m\n\u001b[1;32m     20\u001b[0m     \u001b[0maccumulated_demand\u001b[0m \u001b[0;34m=\u001b[0m \u001b[0;36m0\u001b[0m\u001b[0;34m\u001b[0m\u001b[0;34m\u001b[0m\u001b[0m\n\u001b[1;32m     21\u001b[0m     \u001b[0;32mfor\u001b[0m \u001b[0md\u001b[0m \u001b[0;32min\u001b[0m \u001b[0mrange\u001b[0m\u001b[0;34m(\u001b[0m\u001b[0mday\u001b[0m\u001b[0;34m)\u001b[0m\u001b[0;34m:\u001b[0m\u001b[0;34m\u001b[0m\u001b[0;34m\u001b[0m\u001b[0m\n\u001b[0;32m---> 22\u001b[0;31m         \u001b[0mtotal_received_patients\u001b[0m \u001b[0;34m=\u001b[0m \u001b[0mtotal_received_patients\u001b[0m \u001b[0;34m+\u001b[0m \u001b[0mcalculate_incoming\u001b[0m\u001b[0;34m(\u001b[0m\u001b[0mmovements_res\u001b[0m\u001b[0;34m,\u001b[0m\u001b[0md\u001b[0m\u001b[0;34m,\u001b[0m\u001b[0mnode\u001b[0m\u001b[0;34m)\u001b[0m\u001b[0;34m\u001b[0m\u001b[0;34m\u001b[0m\u001b[0m\n\u001b[0m\u001b[1;32m     23\u001b[0m         \u001b[0mtotal_outbound_patients\u001b[0m \u001b[0;34m=\u001b[0m \u001b[0mtotal_outbound_patients\u001b[0m \u001b[0;34m+\u001b[0m \u001b[0mcalculate_outgoing\u001b[0m\u001b[0;34m(\u001b[0m\u001b[0mmovements_res\u001b[0m\u001b[0;34m,\u001b[0m\u001b[0md\u001b[0m\u001b[0;34m,\u001b[0m\u001b[0mnode\u001b[0m\u001b[0;34m)\u001b[0m\u001b[0;34m\u001b[0m\u001b[0;34m\u001b[0m\u001b[0m\n\u001b[1;32m     24\u001b[0m     \u001b[0maccumulated_demand\u001b[0m \u001b[0;34m=\u001b[0m \u001b[0msum\u001b[0m\u001b[0;34m(\u001b[0m\u001b[0mdemands\u001b[0m\u001b[0;34m[\u001b[0m\u001b[0mnode\u001b[0m\u001b[0;34m]\u001b[0m\u001b[0;34m[\u001b[0m\u001b[0;34m:\u001b[0m\u001b[0mday\u001b[0m\u001b[0;34m]\u001b[0m\u001b[0;34m)\u001b[0m\u001b[0;34m\u001b[0m\u001b[0;34m\u001b[0m\u001b[0m\n",
      "\u001b[0;32m<ipython-input-25-847568212b6e>\u001b[0m in \u001b[0;36mcalculate_incoming\u001b[0;34m(array, day, node)\u001b[0m\n\u001b[1;32m      6\u001b[0m     \u001b[0mtotal_outgoing\u001b[0m \u001b[0;34m=\u001b[0m \u001b[0;36m0\u001b[0m\u001b[0;34m\u001b[0m\u001b[0;34m\u001b[0m\u001b[0m\n\u001b[1;32m      7\u001b[0m     \u001b[0;32mfor\u001b[0m \u001b[0mn\u001b[0m \u001b[0;32min\u001b[0m \u001b[0mrange\u001b[0m\u001b[0;34m(\u001b[0m\u001b[0mnum_nodes\u001b[0m\u001b[0;34m)\u001b[0m\u001b[0;34m:\u001b[0m\u001b[0;34m\u001b[0m\u001b[0;34m\u001b[0m\u001b[0m\n\u001b[0;32m----> 8\u001b[0;31m         \u001b[0mtotal_outgoing\u001b[0m \u001b[0;34m=\u001b[0m \u001b[0mtotal_outgoing\u001b[0m \u001b[0;34m+\u001b[0m \u001b[0marray\u001b[0m\u001b[0;34m[\u001b[0m\u001b[0mday\u001b[0m\u001b[0;34m]\u001b[0m\u001b[0;34m[\u001b[0m\u001b[0mn\u001b[0m\u001b[0;34m]\u001b[0m\u001b[0;34m[\u001b[0m\u001b[0mnode\u001b[0m\u001b[0;34m]\u001b[0m\u001b[0;34m\u001b[0m\u001b[0;34m\u001b[0m\u001b[0m\n\u001b[0m\u001b[1;32m      9\u001b[0m     \u001b[0;32mreturn\u001b[0m \u001b[0mtotal_outgoing\u001b[0m\u001b[0;34m\u001b[0m\u001b[0;34m\u001b[0m\u001b[0m\n\u001b[1;32m     10\u001b[0m \u001b[0;34m\u001b[0m\u001b[0m\n",
      "\u001b[0;31mIndexError\u001b[0m: index 2 is out of bounds for axis 0 with size 2"
     ]
    }
   ],
   "source": [
    "demand_day_node(np.rint(result.x),3,2)"
   ]
  },
  {
   "cell_type": "code",
   "execution_count": null,
   "metadata": {},
   "outputs": [],
   "source": []
  }
 ],
 "metadata": {
  "kernelspec": {
   "display_name": "Python 3",
   "language": "python",
   "name": "python3"
  },
  "language_info": {
   "codemirror_mode": {
    "name": "ipython",
    "version": 3
   },
   "file_extension": ".py",
   "mimetype": "text/x-python",
   "name": "python",
   "nbconvert_exporter": "python",
   "pygments_lexer": "ipython3",
   "version": "3.6.9"
  }
 },
 "nbformat": 4,
 "nbformat_minor": 2
}

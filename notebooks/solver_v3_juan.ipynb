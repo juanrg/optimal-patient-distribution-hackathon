{
 "cells": [
  {
   "cell_type": "markdown",
   "metadata": {},
   "source": [
    "### TODO\n",
    "\n",
    "- Correct it, it's finding local mimima\n",
    "- Find the right way to turn the solution into integers"
   ]
  },
  {
   "cell_type": "code",
   "execution_count": 55,
   "metadata": {},
   "outputs": [],
   "source": [
    "import numpy as np\n",
    "import scipy.optimize as optimize\n",
    "\n",
    "def init_simulation(num_nodes, \n",
    "                    num_days, \n",
    "                    icu_capacities = None, \n",
    "                    transport_capacities = None, \n",
    "                    ini_path = None, \n",
    "                    demand_min = 80, \n",
    "                    demand_max = 90,\n",
    "                    icu_min = 10,\n",
    "                    icu_max = 300,\n",
    "                    transport_min = 20,\n",
    "                    transport_max = 30):\n",
    "    if ini_path:\n",
    "        print(\"you can also upload an .ini file\")\n",
    "        raise NotImplemented\n",
    "    else:\n",
    "        demand = []\n",
    "        for node in range(num_nodes):\n",
    "            demand.append(list(np.random.randint(demand_min, demand_max, size = num_days)))\n",
    "        \n",
    "        icu_capacities = list(np.random.randint(icu_min, icu_max, size = num_nodes)) if not icu_capacities else icu_capacities\n",
    "        transport_capacities = list(np.random.randint(transport_min, transport_max, size = num_nodes)) if not transport_capacities else transport_capacities        \n",
    "    \n",
    "    movements_orig = np.array([[[0]*num_nodes]*num_nodes]*num_days)\n",
    "    return icu_capacities, transport_capacities, demand, movements_orig\n",
    "\n",
    "\n",
    "def calculate_outgoing(array,day,node):\n",
    "    return sum(array[day][node])\n",
    "\n",
    "\n",
    "def calculate_incoming(array,day,node):\n",
    "    total_outgoing = 0\n",
    "    for n in range(num_nodes):\n",
    "        total_outgoing = total_outgoing + array[day][n][node]\n",
    "    return total_outgoing\n",
    "\n",
    "\n",
    "def demand_day_node_raw(node_capacity, demand_day, left_day, received_day, demand_previous_days, left_previous_days, received_previous_days):\n",
    "    return demand_day - left_day + received_day+ min(demand_previous_days-left_previous_days+received_previous_days, node_capacity)\n",
    "\n",
    "\n",
    "def demand_day_node(movements,day,node):\n",
    "    movements_res = np.reshape(movements,(num_days,num_nodes,num_nodes))\n",
    "    total_received_patients = 0\n",
    "    total_outbound_patients = 0\n",
    "    accumulated_demand = 0\n",
    "    for d in range(day):\n",
    "        total_received_patients = total_received_patients + calculate_incoming(movements_res,d,node)\n",
    "        total_outbound_patients = total_outbound_patients + calculate_outgoing(movements_res,d,node)\n",
    "    accumulated_demand = sum(demands[node][:day])\n",
    "    \n",
    "    demand = max(0, demand_day_node_raw(node_capacities[node],demands[node][day], \n",
    "                                        calculate_outgoing(movements_res,day,node), calculate_incoming(movements_res,day,node),\n",
    "                                        accumulated_demand, total_outbound_patients, total_received_patients                \n",
    "                ))\n",
    "    return demand\n",
    "\n",
    "\n",
    "def calc_total_deaths(movements):\n",
    "    total = 0\n",
    "    movements_res = np.reshape(movements,(num_days,num_nodes,num_nodes))\n",
    "    for node in range(num_nodes):\n",
    "        for day in range(num_days):\n",
    "            deaths_not_attended = max(0, demand_day_node(movements,day,node) - node_capacities[node])\n",
    "            deaths_transport = prob_death_transport*movements_res[day].sum()\n",
    "            total = total + deaths_not_attended + deaths_transport\n",
    "    return total\n",
    "\n",
    "\n",
    "def outgoing_list(movements):\n",
    "    movements_res = np.reshape(movements,(num_days,num_nodes,num_nodes))\n",
    "    outgoing_list = list()\n",
    "    for day in range(num_days):\n",
    "        for node in range(num_nodes):\n",
    "            outgoing_list.append(calculate_outgoing(movements_res,day,node))\n",
    "    return outgoing_list\n",
    "\n",
    "def generate_bounds():\n",
    "    outgoing_list = list()\n",
    "    for day in range(num_days):\n",
    "        for outgoing_node in range(num_nodes):\n",
    "            for incoming_node in range(num_nodes):\n",
    "                outgoing_list.append((0,transport_capacities[outgoing_node]))\n",
    "    return outgoing_list\n",
    "\n",
    "def f_cons(node_id, day):\n",
    "    return lambda x: transport_capacities[node_id] - calculate_outgoing(np.reshape(x,(num_days,num_nodes,num_nodes)),day ,node_id)"
   ]
  },
  {
   "cell_type": "code",
   "execution_count": 133,
   "metadata": {
    "scrolled": false
   },
   "outputs": [
    {
     "name": "stdout",
     "output_type": "stream",
     "text": [
      "Randomly generated\n",
      "10 days, 4 hospitals\n",
      "ICU capacities of hospitals: [30000, 20, 80, 1000]\n",
      "Daily transport capacities: [50, 50, 50, 50], \n",
      "Daily simulated demand (from uniform distrution): \n",
      "[[93, 67, 61, 68, 63, 77, 62, 64, 92, 68], [60, 98, 92, 99, 79, 79, 78, 93, 79, 70], [62, 81, 98, 68, 75, 98, 67, 65, 76, 89], [81, 94, 68, 62, 64, 87, 88, 61, 98, 73]]\n",
      "Initial guess (no one moves):\n",
      "[[[0 0 0 0]\n",
      "  [0 0 0 0]\n",
      "  [0 0 0 0]\n",
      "  [0 0 0 0]]\n",
      "\n",
      " [[0 0 0 0]\n",
      "  [0 0 0 0]\n",
      "  [0 0 0 0]\n",
      "  [0 0 0 0]]\n",
      "\n",
      " [[0 0 0 0]\n",
      "  [0 0 0 0]\n",
      "  [0 0 0 0]\n",
      "  [0 0 0 0]]\n",
      "\n",
      " [[0 0 0 0]\n",
      "  [0 0 0 0]\n",
      "  [0 0 0 0]\n",
      "  [0 0 0 0]]\n",
      "\n",
      " [[0 0 0 0]\n",
      "  [0 0 0 0]\n",
      "  [0 0 0 0]\n",
      "  [0 0 0 0]]\n",
      "\n",
      " [[0 0 0 0]\n",
      "  [0 0 0 0]\n",
      "  [0 0 0 0]\n",
      "  [0 0 0 0]]\n",
      "\n",
      " [[0 0 0 0]\n",
      "  [0 0 0 0]\n",
      "  [0 0 0 0]\n",
      "  [0 0 0 0]]\n",
      "\n",
      " [[0 0 0 0]\n",
      "  [0 0 0 0]\n",
      "  [0 0 0 0]\n",
      "  [0 0 0 0]]\n",
      "\n",
      " [[0 0 0 0]\n",
      "  [0 0 0 0]\n",
      "  [0 0 0 0]\n",
      "  [0 0 0 0]]\n",
      "\n",
      " [[0 0 0 0]\n",
      "  [0 0 0 0]\n",
      "  [0 0 0 0]\n",
      "  [0 0 0 0]]]\n"
     ]
    }
   ],
   "source": [
    "prob_death_transport = 0\n",
    "num_days = 10\n",
    "num_nodes = 4\n",
    "node_capacities, transport_capacities, demands, movements_orig = init_simulation(num_nodes, \n",
    "                                                                                 num_days, \n",
    "                                                                                 icu_capacities=[30000, 20, 80, 1000],\n",
    "                                                                                 transport_capacities=[50, 50, 50, 50], \n",
    "                                                                                 demand_min = 60, demand_max=100)\n",
    "print(f\"\"\"Randomly generated\n",
    "{num_days} days, {num_nodes} hospitals\n",
    "ICU capacities of hospitals: {node_capacities}\n",
    "Daily transport capacities: {transport_capacities}, \n",
    "Daily simulated demand (from uniform distrution): \n",
    "{demands}\n",
    "Initial guess (no one moves):\n",
    "{movements_orig}\"\"\")"
   ]
  },
  {
   "cell_type": "code",
   "execution_count": 134,
   "metadata": {
    "scrolled": false
   },
   "outputs": [],
   "source": [
    "#flatten the movements array from 3D to 1D\n",
    "movements = movements_orig.ravel()\n",
    "#define constraints\n",
    "cons = []\n",
    "for node in range(num_nodes):\n",
    "    for day in range(num_days):\n",
    "        cons.append({'type': 'ineq', 'fun': f_cons(node,day)})\n",
    "\n",
    "bounds_movement = generate_bounds()\n",
    "#the actual\n",
    "result = optimize.minimize(calc_total_deaths, \n",
    "                           movements, \n",
    "                           method='SLSQP', \n",
    "                           constraints=cons, \n",
    "                           bounds=bounds_movement)"
   ]
  },
  {
   "cell_type": "code",
   "execution_count": 135,
   "metadata": {},
   "outputs": [
    {
     "data": {
      "text/plain": [
       "array([[[ 0.,  0.,  0.,  0.],\n",
       "        [40.,  0.,  0., 10.],\n",
       "        [40.,  0.,  0., 10.],\n",
       "        [29.,  0.,  0.,  0.]],\n",
       "\n",
       "       [[ 0.,  0.,  0.,  0.],\n",
       "        [40.,  0.,  0., 10.],\n",
       "        [40.,  0.,  0., 10.],\n",
       "        [29.,  0.,  0.,  0.]],\n",
       "\n",
       "       [[ 0.,  0.,  0.,  0.],\n",
       "        [40.,  0.,  0., 10.],\n",
       "        [40.,  0.,  0., 10.],\n",
       "        [29.,  0.,  0.,  0.]],\n",
       "\n",
       "       [[ 0.,  0.,  0.,  0.],\n",
       "        [40.,  0.,  0., 10.],\n",
       "        [40.,  0.,  0., 10.],\n",
       "        [29.,  0.,  0.,  0.]],\n",
       "\n",
       "       [[ 0.,  0.,  0.,  0.],\n",
       "        [40.,  0.,  0., 10.],\n",
       "        [40.,  0.,  0., 10.],\n",
       "        [29.,  0.,  0.,  0.]],\n",
       "\n",
       "       [[ 0.,  0.,  0.,  0.],\n",
       "        [40.,  0.,  0., 10.],\n",
       "        [40.,  0.,  0., 10.],\n",
       "        [29.,  0.,  0.,  0.]],\n",
       "\n",
       "       [[ 0.,  0.,  0.,  0.],\n",
       "        [40.,  0.,  0., 10.],\n",
       "        [40.,  0.,  0., 10.],\n",
       "        [29.,  0.,  0.,  0.]],\n",
       "\n",
       "       [[ 0.,  0.,  0.,  0.],\n",
       "        [40.,  0.,  0., 10.],\n",
       "        [40.,  0.,  0., 10.],\n",
       "        [29.,  0.,  0.,  0.]],\n",
       "\n",
       "       [[ 0.,  0.,  0.,  0.],\n",
       "        [40.,  0.,  0., 10.],\n",
       "        [40.,  0.,  0., 10.],\n",
       "        [29.,  0.,  0.,  0.]],\n",
       "\n",
       "       [[ 0.,  0.,  0.,  0.],\n",
       "        [40.,  0.,  0., 10.],\n",
       "        [40.,  0.,  0., 10.],\n",
       "        [29.,  0.,  0.,  0.]]])"
      ]
     },
     "execution_count": 135,
     "metadata": {},
     "output_type": "execute_result"
    }
   ],
   "source": [
    "np.reshape(np.rint(result.x),(num_days,num_nodes,num_nodes))"
   ]
  },
  {
   "cell_type": "code",
   "execution_count": 136,
   "metadata": {
    "scrolled": true
   },
   "outputs": [
    {
     "data": {
      "text/plain": [
       "506.0"
      ]
     },
     "execution_count": 136,
     "metadata": {},
     "output_type": "execute_result"
    }
   ],
   "source": [
    "calc_total_deaths(np.rint(result.x))"
   ]
  },
  {
   "cell_type": "code",
   "execution_count": 137,
   "metadata": {
    "scrolled": true
   },
   "outputs": [
    {
     "data": {
      "text/plain": [
       "1506"
      ]
     },
     "execution_count": 137,
     "metadata": {},
     "output_type": "execute_result"
    }
   ],
   "source": [
    "calc_total_deaths(movements_orig)"
   ]
  },
  {
   "cell_type": "code",
   "execution_count": 124,
   "metadata": {
    "scrolled": false
   },
   "outputs": [
    {
     "name": "stdout",
     "output_type": "stream",
     "text": [
      "Node: 0, Day: 0, Demand: 376.0\n",
      "Node: 0, Day: 1, Demand: 758.0\n",
      "Node: 0, Day: 2, Demand: 1148.0\n",
      "Node: 0, Day: 3, Demand: 1545.0\n",
      "Node: 0, Day: 4, Demand: 1943.0\n",
      "Node: 0, Day: 5, Demand: 2324.0\n",
      "Node: 0, Day: 6, Demand: 2708.0\n",
      "Node: 0, Day: 7, Demand: 3095.0\n",
      "Node: 0, Day: 8, Demand: 3482.0\n",
      "Node: 0, Day: 9, Demand: 3877.0\n",
      "Node: 1, Day: 0, Demand: 0\n",
      "Node: 1, Day: 1, Demand: 0\n",
      "Node: 1, Day: 2, Demand: 0\n",
      "Node: 1, Day: 3, Demand: 0\n",
      "Node: 1, Day: 4, Demand: 0\n",
      "Node: 1, Day: 5, Demand: 0\n",
      "Node: 1, Day: 6, Demand: 0\n",
      "Node: 1, Day: 7, Demand: 0\n",
      "Node: 1, Day: 8, Demand: 0\n",
      "Node: 1, Day: 9, Demand: 0\n",
      "Node: 2, Day: 0, Demand: 0\n",
      "Node: 2, Day: 1, Demand: 0\n",
      "Node: 2, Day: 2, Demand: 0\n",
      "Node: 2, Day: 3, Demand: 0\n",
      "Node: 2, Day: 4, Demand: 0\n",
      "Node: 2, Day: 5, Demand: 0\n",
      "Node: 2, Day: 6, Demand: 0\n",
      "Node: 2, Day: 7, Demand: 0\n",
      "Node: 2, Day: 8, Demand: 0\n",
      "Node: 2, Day: 9, Demand: 0\n"
     ]
    }
   ],
   "source": [
    "for node in range(num_nodes):\n",
    "    for day in range(num_days):\n",
    "        print(f'Node: {node}, Day: {day}, Demand: {demand_day_node(np.rint(result.x),day,node)}')"
   ]
  },
  {
   "cell_type": "code",
   "execution_count": 52,
   "metadata": {
    "collapsed": true
   },
   "outputs": [
    {
     "ename": "IndexError",
     "evalue": "index 2 is out of bounds for axis 0 with size 2",
     "output_type": "error",
     "traceback": [
      "\u001b[0;31m---------------------------------------------------------------------------\u001b[0m",
      "\u001b[0;31mIndexError\u001b[0m                                Traceback (most recent call last)",
      "\u001b[0;32m<ipython-input-52-b2a8756727d4>\u001b[0m in \u001b[0;36m<module>\u001b[0;34m()\u001b[0m\n\u001b[0;32m----> 1\u001b[0;31m \u001b[0mdemand_day_node\u001b[0m\u001b[0;34m(\u001b[0m\u001b[0mnp\u001b[0m\u001b[0;34m.\u001b[0m\u001b[0mrint\u001b[0m\u001b[0;34m(\u001b[0m\u001b[0mresult\u001b[0m\u001b[0;34m.\u001b[0m\u001b[0mx\u001b[0m\u001b[0;34m)\u001b[0m\u001b[0;34m,\u001b[0m\u001b[0;36m3\u001b[0m\u001b[0;34m,\u001b[0m\u001b[0;36m2\u001b[0m\u001b[0;34m)\u001b[0m\u001b[0;34m\u001b[0m\u001b[0;34m\u001b[0m\u001b[0m\n\u001b[0m",
      "\u001b[0;32m<ipython-input-45-c317c6594261>\u001b[0m in \u001b[0;36mdemand_day_node\u001b[0;34m(movements, day, node)\u001b[0m\n\u001b[1;32m     19\u001b[0m     \u001b[0maccumulated_demand\u001b[0m \u001b[0;34m=\u001b[0m \u001b[0;36m0\u001b[0m\u001b[0;34m\u001b[0m\u001b[0;34m\u001b[0m\u001b[0m\n\u001b[1;32m     20\u001b[0m     \u001b[0;32mfor\u001b[0m \u001b[0md\u001b[0m \u001b[0;32min\u001b[0m \u001b[0mrange\u001b[0m\u001b[0;34m(\u001b[0m\u001b[0mday\u001b[0m\u001b[0;34m)\u001b[0m\u001b[0;34m:\u001b[0m\u001b[0;34m\u001b[0m\u001b[0;34m\u001b[0m\u001b[0m\n\u001b[0;32m---> 21\u001b[0;31m         \u001b[0mtotal_received_patients\u001b[0m \u001b[0;34m=\u001b[0m \u001b[0mtotal_received_patients\u001b[0m \u001b[0;34m+\u001b[0m \u001b[0mcalculate_incoming\u001b[0m\u001b[0;34m(\u001b[0m\u001b[0mmovements_res\u001b[0m\u001b[0;34m,\u001b[0m\u001b[0md\u001b[0m\u001b[0;34m,\u001b[0m\u001b[0mnode\u001b[0m\u001b[0;34m)\u001b[0m\u001b[0;34m\u001b[0m\u001b[0;34m\u001b[0m\u001b[0m\n\u001b[0m\u001b[1;32m     22\u001b[0m         \u001b[0mtotal_outbound_patients\u001b[0m \u001b[0;34m=\u001b[0m \u001b[0mtotal_outbound_patients\u001b[0m \u001b[0;34m+\u001b[0m \u001b[0mcalculate_outgoing\u001b[0m\u001b[0;34m(\u001b[0m\u001b[0mmovements_res\u001b[0m\u001b[0;34m,\u001b[0m\u001b[0md\u001b[0m\u001b[0;34m,\u001b[0m\u001b[0mnode\u001b[0m\u001b[0;34m)\u001b[0m\u001b[0;34m\u001b[0m\u001b[0;34m\u001b[0m\u001b[0m\n\u001b[1;32m     23\u001b[0m     \u001b[0maccumulated_demand\u001b[0m \u001b[0;34m=\u001b[0m \u001b[0msum\u001b[0m\u001b[0;34m(\u001b[0m\u001b[0mdemands\u001b[0m\u001b[0;34m[\u001b[0m\u001b[0mnode\u001b[0m\u001b[0;34m]\u001b[0m\u001b[0;34m[\u001b[0m\u001b[0;34m:\u001b[0m\u001b[0mday\u001b[0m\u001b[0;34m]\u001b[0m\u001b[0;34m)\u001b[0m\u001b[0;34m\u001b[0m\u001b[0;34m\u001b[0m\u001b[0m\n",
      "\u001b[0;32m<ipython-input-45-c317c6594261>\u001b[0m in \u001b[0;36mcalculate_incoming\u001b[0;34m(array, day, node)\u001b[0m\n\u001b[1;32m      5\u001b[0m     \u001b[0mtotal_outgoing\u001b[0m \u001b[0;34m=\u001b[0m \u001b[0;36m0\u001b[0m\u001b[0;34m\u001b[0m\u001b[0;34m\u001b[0m\u001b[0m\n\u001b[1;32m      6\u001b[0m     \u001b[0;32mfor\u001b[0m \u001b[0mn\u001b[0m \u001b[0;32min\u001b[0m \u001b[0mrange\u001b[0m\u001b[0;34m(\u001b[0m\u001b[0mnum_nodes\u001b[0m\u001b[0;34m)\u001b[0m\u001b[0;34m:\u001b[0m\u001b[0;34m\u001b[0m\u001b[0;34m\u001b[0m\u001b[0m\n\u001b[0;32m----> 7\u001b[0;31m         \u001b[0mtotal_outgoing\u001b[0m \u001b[0;34m=\u001b[0m \u001b[0mtotal_outgoing\u001b[0m \u001b[0;34m+\u001b[0m \u001b[0marray\u001b[0m\u001b[0;34m[\u001b[0m\u001b[0mday\u001b[0m\u001b[0;34m]\u001b[0m\u001b[0;34m[\u001b[0m\u001b[0mn\u001b[0m\u001b[0;34m]\u001b[0m\u001b[0;34m[\u001b[0m\u001b[0mnode\u001b[0m\u001b[0;34m]\u001b[0m\u001b[0;34m\u001b[0m\u001b[0;34m\u001b[0m\u001b[0m\n\u001b[0m\u001b[1;32m      8\u001b[0m     \u001b[0;32mreturn\u001b[0m \u001b[0mtotal_outgoing\u001b[0m\u001b[0;34m\u001b[0m\u001b[0;34m\u001b[0m\u001b[0m\n\u001b[1;32m      9\u001b[0m \u001b[0;34m\u001b[0m\u001b[0m\n",
      "\u001b[0;31mIndexError\u001b[0m: index 2 is out of bounds for axis 0 with size 2"
     ]
    }
   ],
   "source": [
    "demand_day_node(np.rint(result.x),3,2)"
   ]
  },
  {
   "cell_type": "markdown",
   "metadata": {},
   "source": [
    "# SANDBOX"
   ]
  },
  {
   "cell_type": "code",
   "execution_count": 53,
   "metadata": {
    "scrolled": false
   },
   "outputs": [
    {
     "name": "stdout",
     "output_type": "stream",
     "text": [
      "Randomly generated\n",
      "1 days, 2 hospitals\n",
      "ICU capacities of hospitals: [277, 154]\n",
      "Daily transport capacities: [20, 22], \n",
      "Daily simulated demand (from uniform distrution): \n",
      "[[81], [81]]\n"
     ]
    }
   ],
   "source": [
    "prob_death_transport = 0\n",
    "num_days = 1\n",
    "num_nodes = 2\n",
    "node_capacities, transport_capacities, demands, movements_orig = init_simulation(num_nodes, num_days)\n",
    "print(f\"\"\"Randomly generated\n",
    "{num_days} days, {num_nodes} hospitals\n",
    "ICU capacities of hospitals: {node_capacities}\n",
    "Daily transport capacities: {transport_capacities}, \n",
    "Daily simulated demand (from uniform distrution): \n",
    "{demands}\"\"\")\n",
    "\n",
    "movements = movements_orig.ravel()"
   ]
  },
  {
   "cell_type": "code",
   "execution_count": null,
   "metadata": {},
   "outputs": [],
   "source": []
  }
 ],
 "metadata": {
  "kernelspec": {
   "display_name": "Python 3",
   "language": "python",
   "name": "python3"
  },
  "language_info": {
   "codemirror_mode": {
    "name": "ipython",
    "version": 3
   },
   "file_extension": ".py",
   "mimetype": "text/x-python",
   "name": "python",
   "nbconvert_exporter": "python",
   "pygments_lexer": "ipython3",
   "version": "3.6.9"
  }
 },
 "nbformat": 4,
 "nbformat_minor": 2
}

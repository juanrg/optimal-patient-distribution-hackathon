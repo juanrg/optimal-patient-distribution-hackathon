{
 "cells": [
  {
   "cell_type": "markdown",
   "metadata": {},
   "source": [
    "### TODO\n",
    "\n",
    "- Correct it, it's finding local mimima\n",
    "- Find the right way to turn the solution into integers"
   ]
  },
  {
   "cell_type": "code",
   "execution_count": 135,
   "metadata": {},
   "outputs": [
    {
     "name": "stdout",
     "output_type": "stream",
     "text": [
      "Exception reporting mode: Plain\n"
     ]
    }
   ],
   "source": [
    "import numpy as np\n",
    "import scipy.optimize as optimize\n",
    "from random import randint\n",
    "import sys\n",
    "\n",
    "%xmode plain\n",
    "\n",
    "def init_simulation(num_nodes, \n",
    "                    num_days, \n",
    "                    icu_capacities = None, \n",
    "                    transport_capacities = None, \n",
    "                    ini_path = None, \n",
    "                    demand_min = 80, \n",
    "                    demand_max = 90,\n",
    "                    icu_min = 10,\n",
    "                    icu_max = 300,\n",
    "                    transport_min = 20,\n",
    "                    transport_max = 30):\n",
    "    if ini_path:\n",
    "        print(\"you can also upload an .ini file\")\n",
    "        raise NotImplemented\n",
    "    else:\n",
    "        demand = []\n",
    "        for node in range(num_nodes):\n",
    "            demand.append(list(np.random.randint(demand_min, demand_max, size = num_days)))\n",
    "        \n",
    "        icu_capacities = icu_capacities if icu_capacities else list(np.random.randint(icu_min, \n",
    "                                                                                      icu_max, \n",
    "                                                                                      size = num_nodes))\n",
    "        transport_capacities = transport_capacities if transport_capacities else list(np.random.randint(transport_min, \n",
    "                                                                                                        transport_max, \n",
    "                                                                                                        size = num_nodes)) \n",
    "    return icu_capacities, transport_capacities, demand\n",
    "\n",
    "\n",
    "def calculate_outgoing(array,day,node):\n",
    "    return sum(array[day][node])\n",
    "\n",
    "\n",
    "def calculate_incoming(array,day,node):\n",
    "    total_outgoing = 0\n",
    "    for n in range(num_nodes):\n",
    "        total_outgoing = total_outgoing + array[day][n][node]\n",
    "    return total_outgoing\n",
    "\n",
    "\n",
    "def demand_day_node_raw(node_capacity, demand_day, left_day, received_day, demand_previous_days, left_previous_days, received_previous_days):\n",
    "    return demand_day - left_day + received_day+ min(demand_previous_days-left_previous_days+received_previous_days, node_capacity)\n",
    "\n",
    "\n",
    "def demand_day_node(movements,day,node):\n",
    "    movements_res = np.reshape(movements,(num_days,num_nodes,num_nodes))\n",
    "    total_received_patients = 0\n",
    "    total_outbound_patients = 0\n",
    "    accumulated_demand = 0\n",
    "    for d in range(day):\n",
    "        total_received_patients = total_received_patients + calculate_incoming(movements_res,d,node)\n",
    "        total_outbound_patients = total_outbound_patients + calculate_outgoing(movements_res,d,node)\n",
    "    accumulated_demand = sum(demands[node][:day])\n",
    "    \n",
    "    demand = max(0, demand_day_node_raw(node_capacities[node],demands[node][day], \n",
    "                                        calculate_outgoing(movements_res,day,node), calculate_incoming(movements_res,day,node),\n",
    "                                        accumulated_demand, total_outbound_patients, total_received_patients                \n",
    "                ))\n",
    "    return demand\n",
    "\n",
    "\n",
    "def calc_total_deaths(movements):\n",
    "    total = 0\n",
    "    movements_res = np.reshape(movements,(num_days,num_nodes,num_nodes))\n",
    "    for node in range(num_nodes):\n",
    "        for day in range(num_days):\n",
    "            deaths_not_attended = max(0, demand_day_node(movements,day,node) - node_capacities[node])\n",
    "            deaths_transport = prob_death_transport*movements_res[day].sum()\n",
    "            total = total + deaths_not_attended + deaths_transport\n",
    "    return total\n",
    "\n",
    "\n",
    "def outgoing_list(movements):\n",
    "    movements_res = np.reshape(movements,(num_days,num_nodes,num_nodes))\n",
    "    outgoing_list = list()\n",
    "    for day in range(num_days):\n",
    "        for node in range(num_nodes):\n",
    "            outgoing_list.append(calculate_outgoing(movements_res,day,node))\n",
    "    return outgoing_list\n",
    "\n",
    "def generate_bounds():\n",
    "    outgoing_list = list()\n",
    "    for day in range(num_days):\n",
    "        for outgoing_node in range(num_nodes):\n",
    "            for incoming_node in range(num_nodes):\n",
    "                outgoing_list.append((0,transport_capacities[outgoing_node]))\n",
    "    return outgoing_list\n",
    "\n",
    "def f_cons(node_id, day):\n",
    "    return lambda x: transport_capacities[node_id] - calculate_outgoing(np.reshape(x,(num_days,num_nodes,num_nodes)),day ,node_id)"
   ]
  },
  {
   "cell_type": "code",
   "execution_count": 104,
   "metadata": {
    "scrolled": false
   },
   "outputs": [
    {
     "name": "stdout",
     "output_type": "stream",
     "text": [
      "Randomly generated\n",
      "10 days, 4 hospitals\n",
      "ICU capacities of hospitals: [30000, 20, 80, 1000]\n",
      "Daily transport capacities: [50, 60, 70, 80], \n",
      "Daily simulated demand (from uniform distrution): \n",
      "[[68, 78, 65, 98, 66, 78, 83, 91, 82, 67], [99, 94, 85, 77, 85, 73, 83, 66, 69, 77], [68, 71, 60, 91, 83, 81, 61, 81, 75, 78], [72, 76, 87, 64, 91, 64, 72, 88, 74, 71]]\n"
     ]
    }
   ],
   "source": [
    "prob_death_transport = 0\n",
    "num_days = 10\n",
    "num_nodes = 4\n",
    "node_capacities, transport_capacities, demands = init_simulation(num_nodes, \n",
    "                                                                 num_days, \n",
    "                                                                 icu_capacities=[30000, 20, 80, 1000],\n",
    "                                                                 transport_capacities=[50, 60, 70, 80], \n",
    "                                                                 demand_min = 60, demand_max=100)\n",
    "print(f\"\"\"Randomly generated\n",
    "{num_days} days, {num_nodes} hospitals\n",
    "ICU capacities of hospitals: {node_capacities}\n",
    "Daily transport capacities: {transport_capacities}, \n",
    "Daily simulated demand (from uniform distrution): \n",
    "{demands}\"\"\")"
   ]
  },
  {
   "cell_type": "code",
   "execution_count": 111,
   "metadata": {},
   "outputs": [],
   "source": [
    "def split_n(num, num_nodes):\n",
    "    #TODO this function is not truly random\n",
    "    pieces = []\n",
    "    for idx in range(num_nodes-1):\n",
    "        pieces.append(randint(1,num-sum(pieces)-num_nodes+idx))\n",
    "\n",
    "    pieces.append(num-sum(pieces))\n",
    "    return pieces"
   ]
  },
  {
   "cell_type": "code",
   "execution_count": 112,
   "metadata": {},
   "outputs": [],
   "source": [
    "#define constraints\n",
    "cons = []\n",
    "for node in range(num_nodes):\n",
    "    for day in range(num_days):\n",
    "        cons.append({'type': 'ineq', 'fun': f_cons(node,day)})\n",
    "\n",
    "        \n",
    "#no movement matrix\n",
    "no_movement = np.array([[[0]*num_nodes]*num_nodes]*num_days)"
   ]
  },
  {
   "cell_type": "code",
   "execution_count": 170,
   "metadata": {},
   "outputs": [],
   "source": [
    "def random_init(random_days = False, movement_intensity = 1):\n",
    "    #almost everyone moves everywhere\n",
    "    random_movement = no_movement.copy()\n",
    "    for day in range(num_days):\n",
    "        for node_x in range(num_nodes):\n",
    "            split_nodes = split_n(np.ceil(transport_capacities[node_x]*movement_intensity), num_nodes)\n",
    "            for node_y in range(num_nodes):\n",
    "                if node_x != node_y: #the ones that move to \"self\" are actually staying\n",
    "                    random_movement[day, node_x, node_y] += split_nodes[node_y]\n",
    "                    \n",
    "    return random_movement\n",
    "\n",
    "max_movement = random_init()\n",
    "half_movement = random_init(movement_intensity=0.5)\n",
    "one_ten_movement = random_init(movement_intensity=0.1)"
   ]
  },
  {
   "cell_type": "code",
   "execution_count": 171,
   "metadata": {},
   "outputs": [
    {
     "data": {
      "text/plain": [
       "array([0, 1, 1, 2, 1, 0, 2, 2, 1, 1, 0, 2, 1, 4, 1, 0, 0, 1, 1, 2, 1, 0,\n",
       "       1, 3, 1, 2, 0, 2, 4, 1, 1, 0, 0, 1, 1, 2, 1, 0, 1, 3, 1, 2, 0, 2,\n",
       "       3, 1, 2, 0, 0, 1, 1, 2, 2, 0, 1, 2, 2, 1, 0, 3, 3, 2, 1, 0, 0, 1,\n",
       "       1, 2, 1, 0, 2, 2, 1, 2, 0, 3, 1, 3, 2, 0, 0, 1, 1, 2, 2, 0, 1, 2,\n",
       "       3, 1, 0, 2, 4, 1, 1, 0, 0, 1, 1, 2, 1, 0, 1, 3, 1, 2, 0, 2, 2, 1,\n",
       "       2, 0, 0, 1, 1, 2, 2, 0, 1, 2, 1, 2, 0, 2, 4, 1, 1, 0, 0, 1, 1, 2,\n",
       "       1, 0, 1, 2, 2, 2, 0, 2, 2, 2, 1, 0, 0, 1, 1, 2, 1, 0, 1, 3, 3, 1,\n",
       "       0, 2, 4, 1, 1, 0])"
      ]
     },
     "execution_count": 171,
     "metadata": {},
     "output_type": "execute_result"
    }
   ],
   "source": [
    "one_ten_movement.ravel()"
   ]
  },
  {
   "cell_type": "code",
   "execution_count": 192,
   "metadata": {},
   "outputs": [
    {
     "data": {
      "text/plain": [
       "array([0. , 0.1, 0.2, 0.3, 0.4, 0.5, 0.6, 0.7, 0.8, 0.9, 1. ])"
      ]
     },
     "execution_count": 192,
     "metadata": {},
     "output_type": "execute_result"
    }
   ],
   "source": []
  },
  {
   "cell_type": "code",
   "execution_count": 196,
   "metadata": {
    "scrolled": false
   },
   "outputs": [
    {
     "name": "stdout",
     "output_type": "stream",
     "text": [
      "Intensity:0.00...best! Intensity:0.10...best! Intensity:0.20...Intensity:0.30...best! Intensity:0.40...Intensity:0.50...Intensity:0.60...Intensity:0.70...Intensity:0.80...best! Intensity:0.90...Intensity:1.00...Done\n",
      "CPU times: user 46.3 s, sys: 127 ms, total: 46.5 s\n",
      "Wall time: 46.2 s\n"
     ]
    }
   ],
   "source": [
    "%%time\n",
    "\n",
    "#all the movements configuration and flatten them with ravel()\n",
    "movements = [no_movement, \n",
    "             random_init(), \n",
    "             random_init(movement_intensity=0.75), \n",
    "             random_init(movement_intensity=0.5), \n",
    "             random_init(movement_intensity=0.25), \n",
    "             random_init(movement_intensity=0.1)]\n",
    "#movements = [x.ravel() for x in movements]\n",
    "\n",
    "#parameters to minimize\n",
    "min_deaths = sys.maxsize\n",
    "best_result = None\n",
    "result_matrix = None\n",
    "for movement_intensity in np.arange(0, 1.1, 0.1):\n",
    "    print(f\"Intensity:{movement_intensity:.1f}...\", end=\"\")\n",
    "    movement = random_init(movement_intensity=movement_intensity) if movement_intensity else no_movement\n",
    "    movement = movement.ravel()\n",
    "    bounds_movement = generate_bounds()\n",
    "    #the actual\n",
    "    result = optimize.minimize(calc_total_deaths, \n",
    "                               movement, \n",
    "                               method='SLSQP', \n",
    "                               constraints=cons, \n",
    "                               bounds=bounds_movement)\n",
    "    \n",
    "    current_deaths = calc_total_deaths(np.rint(result.x))\n",
    "    if min_deaths > current_deaths: \n",
    "        print(\"best! \", end=\"\")\n",
    "        min_deaths = int(current_deaths)\n",
    "        best_result = result\n",
    "        result_matrix = np.reshape(np.rint(result.x),(num_days,num_nodes,num_nodes))\n",
    "print(\"Done\")"
   ]
  },
  {
   "cell_type": "markdown",
   "metadata": {},
   "source": [
    "### These are the deaths that we get with inaction"
   ]
  },
  {
   "cell_type": "code",
   "execution_count": 199,
   "metadata": {
    "scrolled": false
   },
   "outputs": [
    {
     "data": {
      "text/plain": [
       "1457"
      ]
     },
     "execution_count": 199,
     "metadata": {},
     "output_type": "execute_result"
    }
   ],
   "source": [
    "calc_total_deaths(no_movement)"
   ]
  },
  {
   "cell_type": "markdown",
   "metadata": {},
   "source": [
    "### This is the best result found"
   ]
  },
  {
   "cell_type": "code",
   "execution_count": 200,
   "metadata": {},
   "outputs": [
    {
     "data": {
      "text/plain": [
       "186"
      ]
     },
     "execution_count": 200,
     "metadata": {},
     "output_type": "execute_result"
    }
   ],
   "source": [
    "min_deaths"
   ]
  },
  {
   "cell_type": "markdown",
   "metadata": {},
   "source": [
    "### This the movement matrix"
   ]
  },
  {
   "cell_type": "code",
   "execution_count": 201,
   "metadata": {},
   "outputs": [
    {
     "data": {
      "text/plain": [
       "array([[[ 0.,  0.,  0.,  5.],\n",
       "        [30.,  0.,  0., 31.],\n",
       "        [52.,  0.,  0., 18.],\n",
       "        [38.,  0.,  0.,  0.]],\n",
       "\n",
       "       [[ 0.,  0.,  0.,  5.],\n",
       "        [44.,  0.,  0., 16.],\n",
       "        [47.,  0.,  0., 22.],\n",
       "        [38.,  0.,  0.,  0.]],\n",
       "\n",
       "       [[ 0.,  0.,  0.,  2.],\n",
       "        [49.,  0.,  0., 12.],\n",
       "        [47.,  0.,  0., 23.],\n",
       "        [17.,  0.,  0.,  0.]],\n",
       "\n",
       "       [[ 0.,  0.,  0.,  5.],\n",
       "        [33.,  0.,  0., 26.],\n",
       "        [54.,  0.,  0., 17.],\n",
       "        [52.,  0.,  0.,  0.]],\n",
       "\n",
       "       [[ 0.,  0.,  0., 13.],\n",
       "        [24.,  0., 11., 25.],\n",
       "        [33.,  0.,  0., 25.],\n",
       "        [47.,  0.,  0.,  0.]],\n",
       "\n",
       "       [[ 0.,  0.,  0.,  3.],\n",
       "        [46.,  0.,  0., 14.],\n",
       "        [46.,  0.,  0., 24.],\n",
       "        [41.,  0.,  0.,  0.]],\n",
       "\n",
       "       [[ 0.,  0.,  0.,  3.],\n",
       "        [22.,  0.,  0., 38.],\n",
       "        [57.,  0.,  0., 14.],\n",
       "        [18.,  0.,  0.,  0.]],\n",
       "\n",
       "       [[ 0.,  0.,  0., 13.],\n",
       "        [32.,  0.,  0., 29.],\n",
       "        [23.,  0.,  0., 43.],\n",
       "        [48.,  0.,  0.,  0.]],\n",
       "\n",
       "       [[ 0.,  0.,  0.,  2.],\n",
       "        [21.,  0.,  0., 39.],\n",
       "        [60.,  0.,  0., 11.],\n",
       "        [43.,  0.,  0.,  0.]],\n",
       "\n",
       "       [[ 0.,  0.,  0.,  4.],\n",
       "        [23.,  0.,  0., 37.],\n",
       "        [40.,  0.,  0., 30.],\n",
       "        [ 1.,  0.,  0.,  0.]]])"
      ]
     },
     "execution_count": 201,
     "metadata": {},
     "output_type": "execute_result"
    }
   ],
   "source": [
    "result_matrix"
   ]
  },
  {
   "cell_type": "markdown",
   "metadata": {},
   "source": []
  },
  {
   "cell_type": "code",
   "execution_count": 7,
   "metadata": {
    "scrolled": false
   },
   "outputs": [
    {
     "name": "stdout",
     "output_type": "stream",
     "text": [
      "Node: 0, Day: 0, Demand: 193.0\n",
      "Node: 0, Day: 1, Demand: 380.0\n",
      "Node: 0, Day: 2, Demand: 553.0\n",
      "Node: 0, Day: 3, Demand: 734.0\n",
      "Node: 0, Day: 4, Demand: 940.0\n",
      "Node: 0, Day: 5, Demand: 1136.0\n",
      "Node: 0, Day: 6, Demand: 1317.0\n",
      "Node: 0, Day: 7, Demand: 1513.0\n",
      "Node: 0, Day: 8, Demand: 1690.0\n",
      "Node: 0, Day: 9, Demand: 1869.0\n",
      "Node: 1, Day: 0, Demand: 33.0\n",
      "Node: 1, Day: 1, Demand: 65.0\n",
      "Node: 1, Day: 2, Demand: 60.0\n",
      "Node: 1, Day: 3, Demand: 35.0\n",
      "Node: 1, Day: 4, Demand: 51.0\n",
      "Node: 1, Day: 5, Demand: 41.0\n",
      "Node: 1, Day: 6, Demand: 42.0\n",
      "Node: 1, Day: 7, Demand: 39.0\n",
      "Node: 1, Day: 8, Demand: 37.0\n",
      "Node: 1, Day: 9, Demand: 56.0\n",
      "Node: 2, Day: 0, Demand: 33.0\n",
      "Node: 2, Day: 1, Demand: 52.0\n",
      "Node: 2, Day: 2, Demand: 87.0\n",
      "Node: 2, Day: 3, Demand: 108.0\n",
      "Node: 2, Day: 4, Demand: 124.0\n",
      "Node: 2, Day: 5, Demand: 101.0\n",
      "Node: 2, Day: 6, Demand: 127.0\n",
      "Node: 2, Day: 7, Demand: 123.0\n",
      "Node: 2, Day: 8, Demand: 93.0\n",
      "Node: 2, Day: 9, Demand: 92.0\n",
      "Node: 3, Day: 0, Demand: 67.0\n",
      "Node: 3, Day: 1, Demand: 139.0\n",
      "Node: 3, Day: 2, Demand: 206.0\n",
      "Node: 3, Day: 3, Demand: 268.0\n",
      "Node: 3, Day: 4, Demand: 354.0\n",
      "Node: 3, Day: 5, Demand: 405.0\n",
      "Node: 3, Day: 6, Demand: 457.0\n",
      "Node: 3, Day: 7, Demand: 542.0\n",
      "Node: 3, Day: 8, Demand: 609.0\n",
      "Node: 3, Day: 9, Demand: 685.0\n"
     ]
    }
   ],
   "source": [
    "for node in range(num_nodes):\n",
    "    for day in range(num_days):\n",
    "        print(f'Node: {node}, Day: {day}, Demand: {demand_day_node(np.rint(result.x),day,node)}')"
   ]
  },
  {
   "cell_type": "code",
   "execution_count": 150,
   "metadata": {},
   "outputs": [
    {
     "data": {
      "text/plain": [
       "17.0"
      ]
     },
     "execution_count": 150,
     "metadata": {},
     "output_type": "execute_result"
    }
   ],
   "source": [
    "demand_day_node(np.rint(result.x),3,2)"
   ]
  },
  {
   "cell_type": "markdown",
   "metadata": {},
   "source": [
    "# SANDBOX"
   ]
  },
  {
   "cell_type": "code",
   "execution_count": 53,
   "metadata": {
    "scrolled": false
   },
   "outputs": [
    {
     "name": "stdout",
     "output_type": "stream",
     "text": [
      "Randomly generated\n",
      "1 days, 2 hospitals\n",
      "ICU capacities of hospitals: [277, 154]\n",
      "Daily transport capacities: [20, 22], \n",
      "Daily simulated demand (from uniform distrution): \n",
      "[[81], [81]]\n"
     ]
    }
   ],
   "source": [
    "prob_death_transport = 0\n",
    "num_days = 1\n",
    "num_nodes = 2\n",
    "node_capacities, transport_capacities, demands, movements_orig = init_simulation(num_nodes, num_days)\n",
    "print(f\"\"\"Randomly generated\n",
    "{num_days} days, {num_nodes} hospitals\n",
    "ICU capacities of hospitals: {node_capacities}\n",
    "Daily transport capacities: {transport_capacities}, \n",
    "Daily simulated demand (from uniform distrution): \n",
    "{demands}\"\"\")\n",
    "\n",
    "movements = movements_orig.ravel()"
   ]
  },
  {
   "cell_type": "code",
   "execution_count": null,
   "metadata": {},
   "outputs": [],
   "source": []
  }
 ],
 "metadata": {
  "kernelspec": {
   "display_name": "Python 3",
   "language": "python",
   "name": "python3"
  },
  "language_info": {
   "codemirror_mode": {
    "name": "ipython",
    "version": 3
   },
   "file_extension": ".py",
   "mimetype": "text/x-python",
   "name": "python",
   "nbconvert_exporter": "python",
   "pygments_lexer": "ipython3",
   "version": "3.6.9"
  }
 },
 "nbformat": 4,
 "nbformat_minor": 2
}

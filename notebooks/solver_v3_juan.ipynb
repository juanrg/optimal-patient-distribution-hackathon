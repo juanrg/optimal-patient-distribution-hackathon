{
 "cells": [
  {
   "cell_type": "markdown",
   "metadata": {},
   "source": [
    "### TODO\n",
    "\n",
    "- Correct it, it's finding local mimima\n",
    "- Find the right way to turn the solution into integers"
   ]
  },
  {
   "cell_type": "code",
   "execution_count": 135,
   "metadata": {},
   "outputs": [
    {
     "name": "stdout",
     "output_type": "stream",
     "text": [
      "Exception reporting mode: Plain\n"
     ]
    }
   ],
   "source": [
    "import numpy as np\n",
    "import scipy.optimize as optimize\n",
    "from random import randint\n",
    "import sys\n",
    "\n",
    "%xmode plain\n",
    "\n",
    "def init_simulation(num_nodes, \n",
    "                    num_days, \n",
    "                    icu_capacities = None, \n",
    "                    transport_capacities = None, \n",
    "                    ini_path = None, \n",
    "                    demand_min = 80, \n",
    "                    demand_max = 90,\n",
    "                    icu_min = 10,\n",
    "                    icu_max = 300,\n",
    "                    transport_min = 20,\n",
    "                    transport_max = 30):\n",
    "    if ini_path:\n",
    "        print(\"you can also upload an .ini file\")\n",
    "        raise NotImplemented\n",
    "    else:\n",
    "        demand = []\n",
    "        for node in range(num_nodes):\n",
    "            demand.append(list(np.random.randint(demand_min, demand_max, size = num_days)))\n",
    "        \n",
    "        icu_capacities = icu_capacities if icu_capacities else list(np.random.randint(icu_min, \n",
    "                                                                                      icu_max, \n",
    "                                                                                      size = num_nodes))\n",
    "        transport_capacities = transport_capacities if transport_capacities else list(np.random.randint(transport_min, \n",
    "                                                                                                        transport_max, \n",
    "                                                                                                        size = num_nodes)) \n",
    "    return icu_capacities, transport_capacities, demand\n",
    "\n",
    "\n",
    "def calculate_outgoing(array,day,node):\n",
    "    return sum(array[day][node])\n",
    "\n",
    "\n",
    "def calculate_incoming(array,day,node):\n",
    "    total_outgoing = 0\n",
    "    for n in range(num_nodes):\n",
    "        total_outgoing = total_outgoing + array[day][n][node]\n",
    "    return total_outgoing\n",
    "\n",
    "\n",
    "def demand_day_node_raw(node_capacity, demand_day, left_day, received_day, demand_previous_days, left_previous_days, received_previous_days):\n",
    "    return demand_day - left_day + received_day+ min(demand_previous_days-left_previous_days+received_previous_days, node_capacity)\n",
    "\n",
    "\n",
    "def demand_day_node(movements,day,node):\n",
    "    movements_res = np.reshape(movements,(num_days,num_nodes,num_nodes))\n",
    "    total_received_patients = 0\n",
    "    total_outbound_patients = 0\n",
    "    accumulated_demand = 0\n",
    "    for d in range(day):\n",
    "        total_received_patients = total_received_patients + calculate_incoming(movements_res,d,node)\n",
    "        total_outbound_patients = total_outbound_patients + calculate_outgoing(movements_res,d,node)\n",
    "    accumulated_demand = sum(demands[node][:day])\n",
    "    \n",
    "    demand = max(0, demand_day_node_raw(node_capacities[node],demands[node][day], \n",
    "                                        calculate_outgoing(movements_res,day,node), calculate_incoming(movements_res,day,node),\n",
    "                                        accumulated_demand, total_outbound_patients, total_received_patients                \n",
    "                ))\n",
    "    return demand\n",
    "\n",
    "\n",
    "def calc_total_deaths(movements):\n",
    "    total = 0\n",
    "    movements_res = np.reshape(movements,(num_days,num_nodes,num_nodes))\n",
    "    for node in range(num_nodes):\n",
    "        for day in range(num_days):\n",
    "            deaths_not_attended = max(0, demand_day_node(movements,day,node) - node_capacities[node])\n",
    "            deaths_transport = prob_death_transport*movements_res[day].sum()\n",
    "            total = total + deaths_not_attended + deaths_transport\n",
    "    return total\n",
    "\n",
    "\n",
    "def outgoing_list(movements):\n",
    "    movements_res = np.reshape(movements,(num_days,num_nodes,num_nodes))\n",
    "    outgoing_list = list()\n",
    "    for day in range(num_days):\n",
    "        for node in range(num_nodes):\n",
    "            outgoing_list.append(calculate_outgoing(movements_res,day,node))\n",
    "    return outgoing_list\n",
    "\n",
    "def generate_bounds():\n",
    "    outgoing_list = list()\n",
    "    for day in range(num_days):\n",
    "        for outgoing_node in range(num_nodes):\n",
    "            for incoming_node in range(num_nodes):\n",
    "                outgoing_list.append((0,transport_capacities[outgoing_node]))\n",
    "    return outgoing_list\n",
    "\n",
    "def f_cons(node_id, day):\n",
    "    return lambda x: transport_capacities[node_id] - calculate_outgoing(np.reshape(x,(num_days,num_nodes,num_nodes)),day ,node_id)"
   ]
  },
  {
   "cell_type": "code",
   "execution_count": 104,
   "metadata": {
    "scrolled": false
   },
   "outputs": [
    {
     "name": "stdout",
     "output_type": "stream",
     "text": [
      "Randomly generated\n",
      "10 days, 4 hospitals\n",
      "ICU capacities of hospitals: [30000, 20, 80, 1000]\n",
      "Daily transport capacities: [50, 60, 70, 80], \n",
      "Daily simulated demand (from uniform distrution): \n",
      "[[68, 78, 65, 98, 66, 78, 83, 91, 82, 67], [99, 94, 85, 77, 85, 73, 83, 66, 69, 77], [68, 71, 60, 91, 83, 81, 61, 81, 75, 78], [72, 76, 87, 64, 91, 64, 72, 88, 74, 71]]\n"
     ]
    }
   ],
   "source": [
    "prob_death_transport = 0\n",
    "num_days = 10\n",
    "num_nodes = 4\n",
    "node_capacities, transport_capacities, demands = init_simulation(num_nodes, \n",
    "                                                                 num_days, \n",
    "                                                                 icu_capacities=[30000, 20, 80, 1000],\n",
    "                                                                 transport_capacities=[50, 60, 70, 80], \n",
    "                                                                 demand_min = 60, demand_max=100)\n",
    "print(f\"\"\"Randomly generated\n",
    "{num_days} days, {num_nodes} hospitals\n",
    "ICU capacities of hospitals: {node_capacities}\n",
    "Daily transport capacities: {transport_capacities}, \n",
    "Daily simulated demand (from uniform distrution): \n",
    "{demands}\"\"\")"
   ]
  },
  {
   "cell_type": "code",
   "execution_count": 111,
   "metadata": {},
   "outputs": [],
   "source": [
    "def split_n(num, num_nodes):\n",
    "    #TODO this function is not truly random\n",
    "    pieces = []\n",
    "    for idx in range(num_nodes-1):\n",
    "        pieces.append(randint(1,num-sum(pieces)-num_nodes+idx))\n",
    "\n",
    "    pieces.append(num-sum(pieces))\n",
    "    return pieces"
   ]
  },
  {
   "cell_type": "code",
   "execution_count": 244,
   "metadata": {},
   "outputs": [],
   "source": [
    "#define constraints\n",
    "cons = []\n",
    "for node in range(num_nodes):\n",
    "    for day in range(num_days):\n",
    "        cons.append({'type': 'ineq', 'fun': f_cons(node,day)})\n",
    "\n",
    "        \n",
    "#no movement matrix, the base for generating random ones and one of the ones to test as init matrix \n",
    "no_movement = np.array([[[0]*num_nodes]*num_nodes]*num_days)"
   ]
  },
  {
   "cell_type": "code",
   "execution_count": 243,
   "metadata": {},
   "outputs": [
    {
     "data": {
      "text/plain": [
       "array([1, 0, 1, 0, 1, 1, 0, 0, 0, 1])"
      ]
     },
     "execution_count": 243,
     "metadata": {},
     "output_type": "execute_result"
    }
   ],
   "source": [
    "np.random.shuffle([1,0], size=num_days)"
   ]
  },
  {
   "cell_type": "code",
   "execution_count": 246,
   "metadata": {},
   "outputs": [],
   "source": [
    "def random_init(knockdown_days = False, movement_intensity = 1):\n",
    "    random_movement = no_movement.copy()\n",
    "    #if knockdown days is active, behave like a dropdown NN layer and drop half of the days movements\n",
    "    active_days = np.random.choice([1,0], size=num_days) if knockdown_days else [1]*num_days\n",
    "    for day in range(num_days):\n",
    "        if active_days[day]:\n",
    "            for node_x in range(num_nodes):\n",
    "                #splits a number in a list of numbers pseudo randomly\n",
    "                split_nodes = split_n(max(num_nodes+1, \n",
    "                                          np.ceil(transport_capacities[node_x]*movement_intensity)), \n",
    "                                      num_nodes)\n",
    "                for node_y in range(num_nodes):\n",
    "                    if node_x != node_y: #the ones that move to \"self\" are actually staying\n",
    "                        random_movement[day, node_x, node_y] += split_nodes[node_y]\n",
    "                    \n",
    "    return random_movement"
   ]
  },
  {
   "cell_type": "code",
   "execution_count": 255,
   "metadata": {},
   "outputs": [
    {
     "data": {
      "text/plain": [
       "array([[[ 0,  1,  3,  4],\n",
       "        [11,  0,  1,  2],\n",
       "        [ 5,  2,  0, 11],\n",
       "        [ 4,  7, 11,  0]],\n",
       "\n",
       "       [[ 0,  0,  0,  0],\n",
       "        [ 0,  0,  0,  0],\n",
       "        [ 0,  0,  0,  0],\n",
       "        [ 0,  0,  0,  0]],\n",
       "\n",
       "       [[ 0,  1,  4,  7],\n",
       "        [ 1,  0,  1,  2],\n",
       "        [12,  5,  0,  2],\n",
       "        [12,  2,  6,  0]],\n",
       "\n",
       "       [[ 0,  9,  1,  2],\n",
       "        [13,  0,  1,  2],\n",
       "        [16,  2,  0,  2],\n",
       "        [16,  4,  1,  0]],\n",
       "\n",
       "       [[ 0,  0,  0,  0],\n",
       "        [ 0,  0,  0,  0],\n",
       "        [ 0,  0,  0,  0],\n",
       "        [ 0,  0,  0,  0]],\n",
       "\n",
       "       [[ 0,  0,  0,  0],\n",
       "        [ 0,  0,  0,  0],\n",
       "        [ 0,  0,  0,  0],\n",
       "        [ 0,  0,  0,  0]],\n",
       "\n",
       "       [[ 0,  0,  0,  0],\n",
       "        [ 0,  0,  0,  0],\n",
       "        [ 0,  0,  0,  0],\n",
       "        [ 0,  0,  0,  0]],\n",
       "\n",
       "       [[ 0,  0,  0,  0],\n",
       "        [ 0,  0,  0,  0],\n",
       "        [ 0,  0,  0,  0],\n",
       "        [ 0,  0,  0,  0]],\n",
       "\n",
       "       [[ 0,  0,  0,  0],\n",
       "        [ 0,  0,  0,  0],\n",
       "        [ 0,  0,  0,  0],\n",
       "        [ 0,  0,  0,  0]],\n",
       "\n",
       "       [[ 0,  2,  2,  3],\n",
       "        [ 6,  0,  3,  2],\n",
       "        [ 4, 11,  0,  2],\n",
       "        [14,  3,  1,  0]]])"
      ]
     },
     "execution_count": 255,
     "metadata": {},
     "output_type": "execute_result"
    }
   ],
   "source": [
    "random_init(movement_intensity=0.3, knockdown_days=True)"
   ]
  },
  {
   "cell_type": "markdown",
   "metadata": {},
   "source": [
    "### The main loop that generates random init matrices"
   ]
  },
  {
   "cell_type": "code",
   "execution_count": 274,
   "metadata": {},
   "outputs": [
    {
     "name": "stdout",
     "output_type": "stream",
     "text": [
      "9.02 µs ± 109 ns per loop (mean ± std. dev. of 7 runs, 100000 loops each)\n"
     ]
    }
   ],
   "source": [
    "%%timeit\n",
    "\n",
    "np.array(range(100))"
   ]
  },
  {
   "cell_type": "code",
   "execution_count": null,
   "metadata": {},
   "outputs": [],
   "source": []
  },
  {
   "cell_type": "code",
   "execution_count": null,
   "metadata": {
    "scrolled": false
   },
   "outputs": [
    {
     "name": "stdout",
     "output_type": "stream",
     "text": [
      "Intensity:0.000 Knockdown=True Result:189 <--best!\n",
      "Intensity:0.000 Knockdown=False Result:189\n",
      "Intensity:0.025 Knockdown=True Result:191\n",
      "Intensity:0.025 Knockdown=False "
     ]
    }
   ],
   "source": [
    "%%time\n",
    "\n",
    "#parameters to minimize\n",
    "min_deaths = sys.maxsize\n",
    "best_result = None\n",
    "result_matrix = None\n",
    "#iterate through low to high intensity movement simulation\n",
    "step=0.025\n",
    "steps = []\n",
    "for movement_intensity in np.arange(0, 1+step, step):\n",
    "    for knockdown in (True, False):\n",
    "        print(f\"Intensity:{movement_intensity:.3f} Knockdown={knockdown} \", end=\"\")\n",
    "        movement = random_init(knockdown, movement_intensity) if movement_intensity else no_movement\n",
    "        movement = movement.ravel()\n",
    "        bounds_movement = generate_bounds()\n",
    "        #the actual\n",
    "        result = optimize.minimize(calc_total_deaths, \n",
    "                                   movement, \n",
    "                                   method='SLSQP', \n",
    "                                   constraints=cons, \n",
    "                                   bounds=bounds_movement)\n",
    "\n",
    "        current_deaths = calc_total_deaths(np.rint(result.x))\n",
    "        print(f\"Result:{current_deaths:.0f}\", end=\"\")\n",
    "        steps.append([movement_intensity, knockdown, current_deaths])\n",
    "        if min_deaths > current_deaths: \n",
    "            print(\" <--best!\", end=\"\")\n",
    "            min_deaths = int(current_deaths)\n",
    "            best_result = result\n",
    "            result_matrix = np.reshape(np.rint(result.x),(num_days,num_nodes,num_nodes))\n",
    "            win_init_matrix = movement\n",
    "        \n",
    "        print(\"\")\n",
    "        \n",
    "print(\"\\nDone\")"
   ]
  },
  {
   "cell_type": "markdown",
   "metadata": {},
   "source": [
    "### These are the deaths that we get with inaction"
   ]
  },
  {
   "cell_type": "code",
   "execution_count": 264,
   "metadata": {
    "scrolled": false
   },
   "outputs": [
    {
     "data": {
      "text/plain": [
       "1457"
      ]
     },
     "execution_count": 264,
     "metadata": {},
     "output_type": "execute_result"
    }
   ],
   "source": [
    "calc_total_deaths(no_movement)"
   ]
  },
  {
   "cell_type": "markdown",
   "metadata": {},
   "source": [
    "### This is the best result found"
   ]
  },
  {
   "cell_type": "code",
   "execution_count": 265,
   "metadata": {},
   "outputs": [
    {
     "data": {
      "text/plain": [
       "183"
      ]
     },
     "execution_count": 265,
     "metadata": {},
     "output_type": "execute_result"
    }
   ],
   "source": [
    "min_deaths"
   ]
  },
  {
   "cell_type": "markdown",
   "metadata": {},
   "source": [
    "### This the movement matrix"
   ]
  },
  {
   "cell_type": "code",
   "execution_count": 266,
   "metadata": {},
   "outputs": [
    {
     "data": {
      "text/plain": [
       "array([[[ 0.,  0.,  0.,  0.],\n",
       "        [39.,  0.,  2., 20.],\n",
       "        [45.,  0.,  0., 25.],\n",
       "        [19.,  0.,  0.,  0.]],\n",
       "\n",
       "       [[ 0.,  0.,  0.,  0.],\n",
       "        [39.,  0.,  2., 20.],\n",
       "        [45.,  0.,  0., 25.],\n",
       "        [19.,  0.,  0.,  0.]],\n",
       "\n",
       "       [[ 0.,  0.,  0.,  0.],\n",
       "        [39.,  0.,  2., 20.],\n",
       "        [45.,  0.,  0., 25.],\n",
       "        [19.,  0.,  0.,  0.]],\n",
       "\n",
       "       [[ 0.,  0.,  0.,  0.],\n",
       "        [38.,  0.,  2., 19.],\n",
       "        [43.,  0.,  0., 25.],\n",
       "        [28.,  0.,  0.,  0.]],\n",
       "\n",
       "       [[ 0.,  0.,  0.,  0.],\n",
       "        [39.,  0.,  2., 20.],\n",
       "        [45.,  0.,  0., 25.],\n",
       "        [19.,  0.,  0.,  0.]],\n",
       "\n",
       "       [[ 0.,  0.,  0.,  0.],\n",
       "        [39.,  0.,  2., 20.],\n",
       "        [45.,  0.,  0., 25.],\n",
       "        [19.,  0.,  0.,  0.]],\n",
       "\n",
       "       [[ 0.,  0.,  0.,  2.],\n",
       "        [41.,  0.,  0., 19.],\n",
       "        [46.,  0.,  0., 24.],\n",
       "        [25.,  0.,  2.,  0.]],\n",
       "\n",
       "       [[ 0.,  0.,  0.,  0.],\n",
       "        [41.,  0.,  1., 19.],\n",
       "        [42.,  0.,  0., 24.],\n",
       "        [23.,  0.,  0.,  0.]],\n",
       "\n",
       "       [[ 0.,  0.,  0.,  0.],\n",
       "        [38.,  0.,  1., 20.],\n",
       "        [44.,  0.,  0., 24.],\n",
       "        [24.,  0.,  0.,  0.]],\n",
       "\n",
       "       [[ 0.,  0.,  0.,  0.],\n",
       "        [39.,  0.,  2., 20.],\n",
       "        [45.,  0.,  0., 25.],\n",
       "        [19.,  0.,  0.,  0.]]])"
      ]
     },
     "execution_count": 266,
     "metadata": {},
     "output_type": "execute_result"
    }
   ],
   "source": [
    "result_matrix"
   ]
  },
  {
   "cell_type": "code",
   "execution_count": 267,
   "metadata": {
    "scrolled": false
   },
   "outputs": [
    {
     "name": "stdout",
     "output_type": "stream",
     "text": [
      "Node: 0, Day: 0, Demand: 196.0\n",
      "Node: 0, Day: 1, Demand: 373.0\n",
      "Node: 0, Day: 2, Demand: 612.0\n",
      "Node: 0, Day: 3, Demand: 855.0\n",
      "Node: 0, Day: 4, Demand: 1107.0\n",
      "Node: 0, Day: 5, Demand: 1304.0\n",
      "Node: 0, Day: 6, Demand: 1547.0\n",
      "Node: 0, Day: 7, Demand: 1676.0\n",
      "Node: 0, Day: 8, Demand: 1855.0\n",
      "Node: 0, Day: 9, Demand: 2014.0\n",
      "Node: 1, Day: 0, Demand: 40.0\n",
      "Node: 1, Day: 1, Demand: 53.0\n",
      "Node: 1, Day: 2, Demand: 45.0\n",
      "Node: 1, Day: 3, Demand: 37.0\n",
      "Node: 1, Day: 4, Demand: 46.0\n",
      "Node: 1, Day: 5, Demand: 32.0\n",
      "Node: 1, Day: 6, Demand: 42.0\n",
      "Node: 1, Day: 7, Demand: 25.0\n",
      "Node: 1, Day: 8, Demand: 29.0\n",
      "Node: 1, Day: 9, Demand: 36.0\n",
      "Node: 2, Day: 0, Demand: 0\n",
      "Node: 2, Day: 1, Demand: 6.0\n",
      "Node: 2, Day: 2, Demand: 0\n",
      "Node: 2, Day: 3, Demand: 20.0\n",
      "Node: 2, Day: 4, Demand: 33.0\n",
      "Node: 2, Day: 5, Demand: 45.0\n",
      "Node: 2, Day: 6, Demand: 38.0\n",
      "Node: 2, Day: 7, Demand: 57.0\n",
      "Node: 2, Day: 8, Demand: 62.0\n",
      "Node: 2, Day: 9, Demand: 73.0\n",
      "Node: 3, Day: 0, Demand: 73.0\n",
      "Node: 3, Day: 1, Demand: 174.0\n",
      "Node: 3, Day: 2, Demand: 215.0\n",
      "Node: 3, Day: 3, Demand: 263.0\n",
      "Node: 3, Day: 4, Demand: 297.0\n",
      "Node: 3, Day: 5, Demand: 372.0\n",
      "Node: 3, Day: 6, Demand: 413.0\n",
      "Node: 3, Day: 7, Demand: 586.0\n",
      "Node: 3, Day: 8, Demand: 693.0\n",
      "Node: 3, Day: 9, Demand: 800.0\n"
     ]
    }
   ],
   "source": [
    "for node in range(num_nodes):\n",
    "    for day in range(num_days):\n",
    "        print(f'Node: {node}, Day: {day}, Demand: {demand_day_node(np.rint(result.x),day,node)}')"
   ]
  },
  {
   "cell_type": "code",
   "execution_count": null,
   "metadata": {},
   "outputs": [],
   "source": []
  }
 ],
 "metadata": {
  "kernelspec": {
   "display_name": "Python 3",
   "language": "python",
   "name": "python3"
  },
  "language_info": {
   "codemirror_mode": {
    "name": "ipython",
    "version": 3
   },
   "file_extension": ".py",
   "mimetype": "text/x-python",
   "name": "python",
   "nbconvert_exporter": "python",
   "pygments_lexer": "ipython3",
   "version": "3.6.9"
  }
 },
 "nbformat": 4,
 "nbformat_minor": 2
}

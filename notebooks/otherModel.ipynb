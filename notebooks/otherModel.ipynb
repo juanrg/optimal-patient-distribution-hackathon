{
 "cells": [
  {
   "cell_type": "code",
   "execution_count": 2,
   "metadata": {
    "ExecuteTime": {
     "end_time": "2020-04-10T13:44:14.753963Z",
     "start_time": "2020-04-10T13:44:14.738967Z"
    }
   },
   "outputs": [
    {
     "ename": "NameError",
     "evalue": "name 'demands' is not defined",
     "output_type": "error",
     "traceback": [
      "\u001b[1;31m---------------------------------------------------------------------------\u001b[0m",
      "\u001b[1;31mNameError\u001b[0m                                 Traceback (most recent call last)",
      "\u001b[1;32m<ipython-input-2-6f59cb570f6b>\u001b[0m in \u001b[0;36m<module>\u001b[1;34m\u001b[0m\n\u001b[0;32m      7\u001b[0m      \u001b[1;34m'node_capacities'\u001b[0m \u001b[1;33m:\u001b[0m \u001b[0mnode_capacities\u001b[0m \u001b[1;31m# how much capacity in each hospital. Size: [Nodes]\u001b[0m\u001b[1;33m\u001b[0m\u001b[1;33m\u001b[0m\u001b[0m\n\u001b[0;32m      8\u001b[0m     \u001b[1;33m,\u001b[0m\u001b[1;34m'transport_capacities'\u001b[0m \u001b[1;33m:\u001b[0m \u001b[0mtransport_capacities\u001b[0m \u001b[1;31m# Size: [Nodes]\u001b[0m\u001b[1;33m\u001b[0m\u001b[1;33m\u001b[0m\u001b[0m\n\u001b[1;32m----> 9\u001b[1;33m     \u001b[1;33m,\u001b[0m\u001b[1;34m'demands'\u001b[0m \u001b[1;33m:\u001b[0m \u001b[0mdemands\u001b[0m \u001b[1;31m#Size: [Days, Nodes]\u001b[0m\u001b[1;33m\u001b[0m\u001b[1;33m\u001b[0m\u001b[0m\n\u001b[0m\u001b[0;32m     10\u001b[0m     \u001b[1;33m,\u001b[0m\u001b[1;34m'num_days'\u001b[0m\u001b[1;33m:\u001b[0m \u001b[0mnum_days\u001b[0m \u001b[1;31m# int\u001b[0m\u001b[1;33m\u001b[0m\u001b[1;33m\u001b[0m\u001b[0m\n\u001b[0;32m     11\u001b[0m     \u001b[1;33m,\u001b[0m\u001b[1;34m'num_nodes'\u001b[0m\u001b[1;33m:\u001b[0m\u001b[0mnum_nodes\u001b[0m \u001b[1;31m# int\u001b[0m\u001b[1;33m\u001b[0m\u001b[1;33m\u001b[0m\u001b[0m\n",
      "\u001b[1;31mNameError\u001b[0m: name 'demands' is not defined"
     ]
    }
   ],
   "source": [
    "node_capacities = [30000, 20, 80, 1000]\n",
    "transport_capacities = [50, 60, 70, 80], \n",
    "num_days = 20 # shouldn't be needed\n",
    "demands = []\n",
    "num_nodes = 4\n",
    "\n",
    "scenario_info = {\n",
    "     'node_capacities' : node_capacities # how much capacity in each hospital. Size: [Nodes]\n",
    "    ,'transport_capacities' : transport_capacities # Size: [Nodes]\n",
    "    ,'demands' : demands #Size: [Days, Nodes]\n",
    "    ,'num_days': num_days # int \n",
    "    ,'num_nodes':num_nodes # int\n",
    "    ,'node_distances' : np.ones((scenario_info['num_nodes'],scenario_info['num_nodes'])) -np.eye(scenario_info['num_nodes']) #Size: [Nodes, Nodes]\n",
    "    ,'transport_cost': 0 #float\n",
    "    ,'new_cases_min': 10\n",
    "    ,'new_cases_max': 100\n",
    "    ,'overcapacity_death_rate': 0.1 # 10% of people who can't get a bed die immediately.\n",
    "    ,'corona_death_rate': 0.15 # 15% of people who have corona in ICU die\n",
    "    ,'movement_death_rate': 0.05 # 15% of people who have corona in ICU die\n",
    "    ,'corona_cure_rate': 0.4 # 40% of people who have corona in ICU go out\n",
    "}\n",
    "\n",
    "current_state = {\n",
    "    'node_capacities' : scenario_info['node_capacities'] # total capacity, not free capacity\n",
    "    ,'node_free_capacity' : np.zeros(scenario_info['num_nodes'])# node_capacities - node_occupation\n",
    "    ,'node_occupation' : np.zeros(scenario_info['num_nodes'])\n",
    "    ,'transport_capacities' : transport_capacities # Size: [Nodes]\n",
    "    \n",
    "    ,'new_cases' : None\n",
    "    \n",
    "    ,'movements' : np.zeros((scenario_info['num_nodes'],scenario_info['num_nodes'])) # to fill by the algorithm\n",
    "    ,'deaths_in_transit' : np.zeros((scenario_info['num_nodes'],scenario_info['num_nodes'])) # to compute \n",
    "    ,'overcapacity_deaths' : np.zeros(scenario_info['num_nodes']) # to compute\n",
    "    ,'corona_deaths' : np.zeros(scenario_info['num_nodes']) # to compute\n",
    "#     ,'movement_deaths' : \n",
    "    ,'total_deaths' : np.zeros(scenario_info['num_nodes']) # to compute\n",
    "    ,'cured' : 0 # to compute\n",
    "}"
   ]
  },
  {
   "cell_type": "code",
   "execution_count": null,
   "metadata": {
    "collapsed": true
   },
   "outputs": [],
   "source": []
  }
 ],
 "metadata": {
  "kernelspec": {
   "display_name": "Python [conda env:py36]",
   "language": "python",
   "name": "conda-env-py36-py"
  },
  "language_info": {
   "codemirror_mode": {
    "name": "ipython",
    "version": 3
   },
   "file_extension": ".py",
   "mimetype": "text/x-python",
   "name": "python",
   "nbconvert_exporter": "python",
   "pygments_lexer": "ipython3",
   "version": "3.6.7"
  },
  "toc": {
   "base_numbering": 1,
   "nav_menu": {},
   "number_sections": true,
   "sideBar": true,
   "skip_h1_title": false,
   "title_cell": "Table of Contents",
   "title_sidebar": "Contents",
   "toc_cell": false,
   "toc_position": {},
   "toc_section_display": true,
   "toc_window_display": false
  },
  "varInspector": {
   "cols": {
    "lenName": 16,
    "lenType": 16,
    "lenVar": 40
   },
   "kernels_config": {
    "python": {
     "delete_cmd_postfix": "",
     "delete_cmd_prefix": "del ",
     "library": "var_list.py",
     "varRefreshCmd": "print(var_dic_list())"
    },
    "r": {
     "delete_cmd_postfix": ") ",
     "delete_cmd_prefix": "rm(",
     "library": "var_list.r",
     "varRefreshCmd": "cat(var_dic_list()) "
    }
   },
   "types_to_exclude": [
    "module",
    "function",
    "builtin_function_or_method",
    "instance",
    "_Feature"
   ],
   "window_display": false
  }
 },
 "nbformat": 4,
 "nbformat_minor": 2
}
